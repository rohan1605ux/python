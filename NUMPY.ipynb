{
 "cells": [
  {
   "cell_type": "code",
   "execution_count": 1,
   "id": "06ace990",
   "metadata": {},
   "outputs": [
    {
     "name": "stdout",
     "output_type": "stream",
     "text": [
      "[0. 1. 2. 3. 4. 5. 6. 7. 8. 9.]\n"
     ]
    }
   ],
   "source": [
    "import numpy as np\n",
    "ar1 = np.arange(10,dtype=float)\n",
    "print(ar1)"
   ]
  },
  {
   "cell_type": "code",
   "execution_count": 3,
   "id": "7e4eed5e",
   "metadata": {},
   "outputs": [
    {
     "data": {
      "text/plain": [
       "'1.21.5'"
      ]
     },
     "execution_count": 3,
     "metadata": {},
     "output_type": "execute_result"
    }
   ],
   "source": [
    "np.__version__"
   ]
  },
  {
   "cell_type": "code",
   "execution_count": 5,
   "id": "91855c6b",
   "metadata": {},
   "outputs": [
    {
     "data": {
      "text/plain": [
       "array([ 0,  1,  2,  3,  4,  5,  6,  7,  8,  9, 10, 11, 12, 13, 14, 15, 16,\n",
       "       17, 18, 19, 20, 21, 22, 23, 24, 25, 26, 27, 28, 29, 30, 31, 32, 33,\n",
       "       34, 35, 36, 37, 38, 39, 40, 41, 42, 43, 44, 45, 46, 47, 48, 49, 50,\n",
       "       51, 52, 53, 54, 55, 56, 57, 58, 59, 60, 61, 62, 63, 64, 65, 66, 67,\n",
       "       68, 69, 70, 71, 72, 73, 74, 75, 76, 77, 78, 79, 80, 81, 82, 83, 84,\n",
       "       85, 86, 87, 88, 89, 90, 91, 92, 93, 94, 95, 96, 97, 98, 99])"
      ]
     },
     "execution_count": 5,
     "metadata": {},
     "output_type": "execute_result"
    }
   ],
   "source": [
    "arr = np.arange(0,100)\n",
    "arr"
   ]
  },
  {
   "cell_type": "code",
   "execution_count": 6,
   "id": "2385653f",
   "metadata": {},
   "outputs": [
    {
     "data": {
      "text/plain": [
       "array([ 0,  2,  4,  6,  8, 10, 12, 14, 16, 18, 20, 22, 24, 26, 28, 30, 32,\n",
       "       34, 36, 38, 40, 42, 44, 46, 48, 50, 52, 54, 56, 58, 60, 62, 64, 66,\n",
       "       68, 70, 72, 74, 76, 78, 80, 82, 84, 86, 88, 90, 92, 94, 96, 98])"
      ]
     },
     "execution_count": 6,
     "metadata": {},
     "output_type": "execute_result"
    }
   ],
   "source": [
    "np.arange(0,100,2)"
   ]
  },
  {
   "cell_type": "code",
   "execution_count": 7,
   "id": "ff4d9f60",
   "metadata": {},
   "outputs": [
    {
     "data": {
      "text/plain": [
       "array([[0, 1, 2],\n",
       "       [3, 4, 5],\n",
       "       [6, 7, 8]])"
      ]
     },
     "execution_count": 7,
     "metadata": {},
     "output_type": "execute_result"
    }
   ],
   "source": [
    "np.arange(0,9).reshape(3,3)"
   ]
  },
  {
   "cell_type": "code",
   "execution_count": 8,
   "id": "27240a1f",
   "metadata": {},
   "outputs": [
    {
     "data": {
      "text/plain": [
       "[0, 1, 2, 3, 4, 5, 6, 7, 8, 9]"
      ]
     },
     "execution_count": 8,
     "metadata": {},
     "output_type": "execute_result"
    }
   ],
   "source": [
    "list(range(0,10))"
   ]
  },
  {
   "cell_type": "code",
   "execution_count": 9,
   "id": "56fa0559",
   "metadata": {},
   "outputs": [
    {
     "data": {
      "text/plain": [
       "[1, 2, 3, 4, 5]"
      ]
     },
     "execution_count": 9,
     "metadata": {},
     "output_type": "execute_result"
    }
   ],
   "source": [
    "l = [1,2,3,4,5]\n",
    "l\n"
   ]
  },
  {
   "cell_type": "code",
   "execution_count": 15,
   "id": "465bb3a3",
   "metadata": {},
   "outputs": [
    {
     "data": {
      "text/plain": [
       "[0, 1, 2, 3, 4, 5, 6, 7, 8, 9]"
      ]
     },
     "execution_count": 15,
     "metadata": {},
     "output_type": "execute_result"
    }
   ],
   "source": [
    "l2=[x for x in range(0,10)]\n",
    "l2\n",
    "\n"
   ]
  },
  {
   "cell_type": "code",
   "execution_count": 16,
   "id": "f29536b3",
   "metadata": {},
   "outputs": [
    {
     "data": {
      "text/plain": [
       "['0', '1', '2', '3', '4', '5', '6', '7', '8', '9']"
      ]
     },
     "execution_count": 16,
     "metadata": {},
     "output_type": "execute_result"
    }
   ],
   "source": [
    "l3=[str(x) for x in l2]\n",
    "l3\n"
   ]
  },
  {
   "cell_type": "code",
   "execution_count": 18,
   "id": "df83d410",
   "metadata": {},
   "outputs": [
    {
     "data": {
      "text/plain": [
       "[0, 2, 4, 6, 8]"
      ]
     },
     "execution_count": 18,
     "metadata": {},
     "output_type": "execute_result"
    }
   ],
   "source": [
    "l4=[x for x in range(0,10,2)]\n",
    "l4"
   ]
  },
  {
   "cell_type": "code",
   "execution_count": 19,
   "id": "65893562",
   "metadata": {},
   "outputs": [
    {
     "data": {
      "text/plain": [
       "[0, 1, 4, 9, 16, 25, 36, 49, 64, 81]"
      ]
     },
     "execution_count": 19,
     "metadata": {},
     "output_type": "execute_result"
    }
   ],
   "source": [
    "l4 = [x**2 for x in range(0,10)]\n",
    "l4"
   ]
  },
  {
   "cell_type": "code",
   "execution_count": 21,
   "id": "d528c3f8",
   "metadata": {},
   "outputs": [],
   "source": [
    "import array"
   ]
  },
  {
   "cell_type": "code",
   "execution_count": 22,
   "id": "84fc2a10",
   "metadata": {},
   "outputs": [
    {
     "name": "stdout",
     "output_type": "stream",
     "text": [
      "Help on built-in module array:\n",
      "\n",
      "NAME\n",
      "    array\n",
      "\n",
      "DESCRIPTION\n",
      "    This module defines an object type which can efficiently represent\n",
      "    an array of basic values: characters, integers, floating point\n",
      "    numbers.  Arrays are sequence types and behave very much like lists,\n",
      "    except that the type of objects stored in them is constrained.\n",
      "\n",
      "CLASSES\n",
      "    builtins.object\n",
      "        array\n",
      "    \n",
      "    ArrayType = class array(builtins.object)\n",
      "     |  array(typecode [, initializer]) -> array\n",
      "     |  \n",
      "     |  Return a new array whose items are restricted by typecode, and\n",
      "     |  initialized from the optional initializer value, which must be a list,\n",
      "     |  string or iterable over elements of the appropriate type.\n",
      "     |  \n",
      "     |  Arrays represent basic values and behave very much like lists, except\n",
      "     |  the type of objects stored in them is constrained. The type is specified\n",
      "     |  at object creation time by using a type code, which is a single character.\n",
      "     |  The following type codes are defined:\n",
      "     |  \n",
      "     |      Type code   C Type             Minimum size in bytes\n",
      "     |      'b'         signed integer     1\n",
      "     |      'B'         unsigned integer   1\n",
      "     |      'u'         Unicode character  2 (see note)\n",
      "     |      'h'         signed integer     2\n",
      "     |      'H'         unsigned integer   2\n",
      "     |      'i'         signed integer     2\n",
      "     |      'I'         unsigned integer   2\n",
      "     |      'l'         signed integer     4\n",
      "     |      'L'         unsigned integer   4\n",
      "     |      'q'         signed integer     8 (see note)\n",
      "     |      'Q'         unsigned integer   8 (see note)\n",
      "     |      'f'         floating point     4\n",
      "     |      'd'         floating point     8\n",
      "     |  \n",
      "     |  NOTE: The 'u' typecode corresponds to Python's unicode character. On\n",
      "     |  narrow builds this is 2-bytes on wide builds this is 4-bytes.\n",
      "     |  \n",
      "     |  NOTE: The 'q' and 'Q' type codes are only available if the platform\n",
      "     |  C compiler used to build Python supports 'long long', or, on Windows,\n",
      "     |  '__int64'.\n",
      "     |  \n",
      "     |  Methods:\n",
      "     |  \n",
      "     |  append() -- append a new item to the end of the array\n",
      "     |  buffer_info() -- return information giving the current memory info\n",
      "     |  byteswap() -- byteswap all the items of the array\n",
      "     |  count() -- return number of occurrences of an object\n",
      "     |  extend() -- extend array by appending multiple elements from an iterable\n",
      "     |  fromfile() -- read items from a file object\n",
      "     |  fromlist() -- append items from the list\n",
      "     |  frombytes() -- append items from the string\n",
      "     |  index() -- return index of first occurrence of an object\n",
      "     |  insert() -- insert a new item into the array at a provided position\n",
      "     |  pop() -- remove and return item (default last)\n",
      "     |  remove() -- remove first occurrence of an object\n",
      "     |  reverse() -- reverse the order of the items in the array\n",
      "     |  tofile() -- write all items to a file object\n",
      "     |  tolist() -- return the array converted to an ordinary list\n",
      "     |  tobytes() -- return the array converted to a string\n",
      "     |  \n",
      "     |  Attributes:\n",
      "     |  \n",
      "     |  typecode -- the typecode character used to create the array\n",
      "     |  itemsize -- the length in bytes of one array item\n",
      "     |  \n",
      "     |  Methods defined here:\n",
      "     |  \n",
      "     |  __add__(self, value, /)\n",
      "     |      Return self+value.\n",
      "     |  \n",
      "     |  __contains__(self, key, /)\n",
      "     |      Return key in self.\n",
      "     |  \n",
      "     |  __copy__(self, /)\n",
      "     |      Return a copy of the array.\n",
      "     |  \n",
      "     |  __deepcopy__(self, unused, /)\n",
      "     |      Return a copy of the array.\n",
      "     |  \n",
      "     |  __delitem__(self, key, /)\n",
      "     |      Delete self[key].\n",
      "     |  \n",
      "     |  __eq__(self, value, /)\n",
      "     |      Return self==value.\n",
      "     |  \n",
      "     |  __ge__(self, value, /)\n",
      "     |      Return self>=value.\n",
      "     |  \n",
      "     |  __getattribute__(self, name, /)\n",
      "     |      Return getattr(self, name).\n",
      "     |  \n",
      "     |  __getitem__(self, key, /)\n",
      "     |      Return self[key].\n",
      "     |  \n",
      "     |  __gt__(self, value, /)\n",
      "     |      Return self>value.\n",
      "     |  \n",
      "     |  __iadd__(self, value, /)\n",
      "     |      Implement self+=value.\n",
      "     |  \n",
      "     |  __imul__(self, value, /)\n",
      "     |      Implement self*=value.\n",
      "     |  \n",
      "     |  __iter__(self, /)\n",
      "     |      Implement iter(self).\n",
      "     |  \n",
      "     |  __le__(self, value, /)\n",
      "     |      Return self<=value.\n",
      "     |  \n",
      "     |  __len__(self, /)\n",
      "     |      Return len(self).\n",
      "     |  \n",
      "     |  __lt__(self, value, /)\n",
      "     |      Return self<value.\n",
      "     |  \n",
      "     |  __mul__(self, value, /)\n",
      "     |      Return self*value.\n",
      "     |  \n",
      "     |  __ne__(self, value, /)\n",
      "     |      Return self!=value.\n",
      "     |  \n",
      "     |  __reduce_ex__(self, value, /)\n",
      "     |      Return state information for pickling.\n",
      "     |  \n",
      "     |  __repr__(self, /)\n",
      "     |      Return repr(self).\n",
      "     |  \n",
      "     |  __rmul__(self, value, /)\n",
      "     |      Return value*self.\n",
      "     |  \n",
      "     |  __setitem__(self, key, value, /)\n",
      "     |      Set self[key] to value.\n",
      "     |  \n",
      "     |  __sizeof__(self, /)\n",
      "     |      Size of the array in memory, in bytes.\n",
      "     |  \n",
      "     |  append(self, v, /)\n",
      "     |      Append new value v to the end of the array.\n",
      "     |  \n",
      "     |  buffer_info(self, /)\n",
      "     |      Return a tuple (address, length) giving the current memory address and the length in items of the buffer used to hold array's contents.\n",
      "     |      \n",
      "     |      The length should be multiplied by the itemsize attribute to calculate\n",
      "     |      the buffer length in bytes.\n",
      "     |  \n",
      "     |  byteswap(self, /)\n",
      "     |      Byteswap all items of the array.\n",
      "     |      \n",
      "     |      If the items in the array are not 1, 2, 4, or 8 bytes in size, RuntimeError is\n",
      "     |      raised.\n",
      "     |  \n",
      "     |  count(self, v, /)\n",
      "     |      Return number of occurrences of v in the array.\n",
      "     |  \n",
      "     |  extend(self, bb, /)\n",
      "     |      Append items to the end of the array.\n",
      "     |  \n",
      "     |  frombytes(self, buffer, /)\n",
      "     |      Appends items from the string, interpreting it as an array of machine values, as if it had been read from a file using the fromfile() method.\n",
      "     |  \n",
      "     |  fromfile(self, f, n, /)\n",
      "     |      Read n objects from the file object f and append them to the end of the array.\n",
      "     |  \n",
      "     |  fromlist(self, list, /)\n",
      "     |      Append items to array from list.\n",
      "     |  \n",
      "     |  fromunicode(self, ustr, /)\n",
      "     |      Extends this array with data from the unicode string ustr.\n",
      "     |      \n",
      "     |      The array must be a unicode type array; otherwise a ValueError is raised.\n",
      "     |      Use array.frombytes(ustr.encode(...)) to append Unicode data to an array of\n",
      "     |      some other type.\n",
      "     |  \n",
      "     |  index(self, v, /)\n",
      "     |      Return index of first occurrence of v in the array.\n",
      "     |  \n",
      "     |  insert(self, i, v, /)\n",
      "     |      Insert a new item v into the array before position i.\n",
      "     |  \n",
      "     |  pop(self, i=-1, /)\n",
      "     |      Return the i-th element and delete it from the array.\n",
      "     |      \n",
      "     |      i defaults to -1.\n",
      "     |  \n",
      "     |  remove(self, v, /)\n",
      "     |      Remove the first occurrence of v in the array.\n",
      "     |  \n",
      "     |  reverse(self, /)\n",
      "     |      Reverse the order of the items in the array.\n",
      "     |  \n",
      "     |  tobytes(self, /)\n",
      "     |      Convert the array to an array of machine values and return the bytes representation.\n",
      "     |  \n",
      "     |  tofile(self, f, /)\n",
      "     |      Write all items (as machine values) to the file object f.\n",
      "     |  \n",
      "     |  tolist(self, /)\n",
      "     |      Convert array to an ordinary list with the same items.\n",
      "     |  \n",
      "     |  tounicode(self, /)\n",
      "     |      Extends this array with data from the unicode string ustr.\n",
      "     |      \n",
      "     |      Convert the array to a unicode string.  The array must be a unicode type array;\n",
      "     |      otherwise a ValueError is raised.  Use array.tobytes().decode() to obtain a\n",
      "     |      unicode string from an array of some other type.\n",
      "     |  \n",
      "     |  ----------------------------------------------------------------------\n",
      "     |  Static methods defined here:\n",
      "     |  \n",
      "     |  __new__(*args, **kwargs) from builtins.type\n",
      "     |      Create and return a new object.  See help(type) for accurate signature.\n",
      "     |  \n",
      "     |  ----------------------------------------------------------------------\n",
      "     |  Data descriptors defined here:\n",
      "     |  \n",
      "     |  itemsize\n",
      "     |      the size, in bytes, of one array item\n",
      "     |  \n",
      "     |  typecode\n",
      "     |      the typecode character used to create the array\n",
      "     |  \n",
      "     |  ----------------------------------------------------------------------\n",
      "     |  Data and other attributes defined here:\n",
      "     |  \n",
      "     |  __hash__ = None\n",
      "    \n",
      "    class array(builtins.object)\n",
      "     |  array(typecode [, initializer]) -> array\n",
      "     |  \n",
      "     |  Return a new array whose items are restricted by typecode, and\n",
      "     |  initialized from the optional initializer value, which must be a list,\n",
      "     |  string or iterable over elements of the appropriate type.\n",
      "     |  \n",
      "     |  Arrays represent basic values and behave very much like lists, except\n",
      "     |  the type of objects stored in them is constrained. The type is specified\n",
      "     |  at object creation time by using a type code, which is a single character.\n",
      "     |  The following type codes are defined:\n",
      "     |  \n",
      "     |      Type code   C Type             Minimum size in bytes\n",
      "     |      'b'         signed integer     1\n",
      "     |      'B'         unsigned integer   1\n",
      "     |      'u'         Unicode character  2 (see note)\n",
      "     |      'h'         signed integer     2\n",
      "     |      'H'         unsigned integer   2\n",
      "     |      'i'         signed integer     2\n",
      "     |      'I'         unsigned integer   2\n",
      "     |      'l'         signed integer     4\n",
      "     |      'L'         unsigned integer   4\n",
      "     |      'q'         signed integer     8 (see note)\n",
      "     |      'Q'         unsigned integer   8 (see note)\n",
      "     |      'f'         floating point     4\n",
      "     |      'd'         floating point     8\n",
      "     |  \n",
      "     |  NOTE: The 'u' typecode corresponds to Python's unicode character. On\n",
      "     |  narrow builds this is 2-bytes on wide builds this is 4-bytes.\n",
      "     |  \n",
      "     |  NOTE: The 'q' and 'Q' type codes are only available if the platform\n",
      "     |  C compiler used to build Python supports 'long long', or, on Windows,\n",
      "     |  '__int64'.\n",
      "     |  \n",
      "     |  Methods:\n",
      "     |  \n",
      "     |  append() -- append a new item to the end of the array\n",
      "     |  buffer_info() -- return information giving the current memory info\n",
      "     |  byteswap() -- byteswap all the items of the array\n",
      "     |  count() -- return number of occurrences of an object\n",
      "     |  extend() -- extend array by appending multiple elements from an iterable\n",
      "     |  fromfile() -- read items from a file object\n",
      "     |  fromlist() -- append items from the list\n",
      "     |  frombytes() -- append items from the string\n",
      "     |  index() -- return index of first occurrence of an object\n",
      "     |  insert() -- insert a new item into the array at a provided position\n",
      "     |  pop() -- remove and return item (default last)\n",
      "     |  remove() -- remove first occurrence of an object\n",
      "     |  reverse() -- reverse the order of the items in the array\n",
      "     |  tofile() -- write all items to a file object\n",
      "     |  tolist() -- return the array converted to an ordinary list\n",
      "     |  tobytes() -- return the array converted to a string\n",
      "     |  \n",
      "     |  Attributes:\n",
      "     |  \n",
      "     |  typecode -- the typecode character used to create the array\n",
      "     |  itemsize -- the length in bytes of one array item\n",
      "     |  \n",
      "     |  Methods defined here:\n",
      "     |  \n",
      "     |  __add__(self, value, /)\n",
      "     |      Return self+value.\n",
      "     |  \n",
      "     |  __contains__(self, key, /)\n",
      "     |      Return key in self.\n",
      "     |  \n",
      "     |  __copy__(self, /)\n",
      "     |      Return a copy of the array.\n",
      "     |  \n",
      "     |  __deepcopy__(self, unused, /)\n",
      "     |      Return a copy of the array.\n",
      "     |  \n",
      "     |  __delitem__(self, key, /)\n",
      "     |      Delete self[key].\n",
      "     |  \n",
      "     |  __eq__(self, value, /)\n",
      "     |      Return self==value.\n",
      "     |  \n",
      "     |  __ge__(self, value, /)\n",
      "     |      Return self>=value.\n",
      "     |  \n",
      "     |  __getattribute__(self, name, /)\n",
      "     |      Return getattr(self, name).\n",
      "     |  \n",
      "     |  __getitem__(self, key, /)\n",
      "     |      Return self[key].\n",
      "     |  \n",
      "     |  __gt__(self, value, /)\n",
      "     |      Return self>value.\n",
      "     |  \n",
      "     |  __iadd__(self, value, /)\n",
      "     |      Implement self+=value.\n",
      "     |  \n",
      "     |  __imul__(self, value, /)\n",
      "     |      Implement self*=value.\n",
      "     |  \n",
      "     |  __iter__(self, /)\n",
      "     |      Implement iter(self).\n",
      "     |  \n",
      "     |  __le__(self, value, /)\n",
      "     |      Return self<=value.\n",
      "     |  \n",
      "     |  __len__(self, /)\n",
      "     |      Return len(self).\n",
      "     |  \n",
      "     |  __lt__(self, value, /)\n",
      "     |      Return self<value.\n",
      "     |  \n",
      "     |  __mul__(self, value, /)\n",
      "     |      Return self*value.\n",
      "     |  \n",
      "     |  __ne__(self, value, /)\n",
      "     |      Return self!=value.\n",
      "     |  \n",
      "     |  __reduce_ex__(self, value, /)\n",
      "     |      Return state information for pickling.\n",
      "     |  \n",
      "     |  __repr__(self, /)\n",
      "     |      Return repr(self).\n",
      "     |  \n",
      "     |  __rmul__(self, value, /)\n",
      "     |      Return value*self.\n",
      "     |  \n",
      "     |  __setitem__(self, key, value, /)\n",
      "     |      Set self[key] to value.\n",
      "     |  \n",
      "     |  __sizeof__(self, /)\n",
      "     |      Size of the array in memory, in bytes.\n",
      "     |  \n",
      "     |  append(self, v, /)\n",
      "     |      Append new value v to the end of the array.\n",
      "     |  \n",
      "     |  buffer_info(self, /)\n",
      "     |      Return a tuple (address, length) giving the current memory address and the length in items of the buffer used to hold array's contents.\n",
      "     |      \n",
      "     |      The length should be multiplied by the itemsize attribute to calculate\n",
      "     |      the buffer length in bytes.\n",
      "     |  \n",
      "     |  byteswap(self, /)\n",
      "     |      Byteswap all items of the array.\n",
      "     |      \n",
      "     |      If the items in the array are not 1, 2, 4, or 8 bytes in size, RuntimeError is\n",
      "     |      raised.\n",
      "     |  \n",
      "     |  count(self, v, /)\n",
      "     |      Return number of occurrences of v in the array.\n",
      "     |  \n",
      "     |  extend(self, bb, /)\n",
      "     |      Append items to the end of the array.\n",
      "     |  \n",
      "     |  frombytes(self, buffer, /)\n",
      "     |      Appends items from the string, interpreting it as an array of machine values, as if it had been read from a file using the fromfile() method.\n",
      "     |  \n",
      "     |  fromfile(self, f, n, /)\n",
      "     |      Read n objects from the file object f and append them to the end of the array.\n",
      "     |  \n",
      "     |  fromlist(self, list, /)\n",
      "     |      Append items to array from list.\n",
      "     |  \n",
      "     |  fromunicode(self, ustr, /)\n",
      "     |      Extends this array with data from the unicode string ustr.\n",
      "     |      \n",
      "     |      The array must be a unicode type array; otherwise a ValueError is raised.\n",
      "     |      Use array.frombytes(ustr.encode(...)) to append Unicode data to an array of\n",
      "     |      some other type.\n",
      "     |  \n",
      "     |  index(self, v, /)\n",
      "     |      Return index of first occurrence of v in the array.\n",
      "     |  \n",
      "     |  insert(self, i, v, /)\n",
      "     |      Insert a new item v into the array before position i.\n",
      "     |  \n",
      "     |  pop(self, i=-1, /)\n",
      "     |      Return the i-th element and delete it from the array.\n",
      "     |      \n",
      "     |      i defaults to -1.\n",
      "     |  \n",
      "     |  remove(self, v, /)\n",
      "     |      Remove the first occurrence of v in the array.\n",
      "     |  \n",
      "     |  reverse(self, /)\n",
      "     |      Reverse the order of the items in the array.\n",
      "     |  \n",
      "     |  tobytes(self, /)\n",
      "     |      Convert the array to an array of machine values and return the bytes representation.\n",
      "     |  \n",
      "     |  tofile(self, f, /)\n",
      "     |      Write all items (as machine values) to the file object f.\n",
      "     |  \n",
      "     |  tolist(self, /)\n",
      "     |      Convert array to an ordinary list with the same items.\n",
      "     |  \n",
      "     |  tounicode(self, /)\n",
      "     |      Extends this array with data from the unicode string ustr.\n",
      "     |      \n",
      "     |      Convert the array to a unicode string.  The array must be a unicode type array;\n",
      "     |      otherwise a ValueError is raised.  Use array.tobytes().decode() to obtain a\n",
      "     |      unicode string from an array of some other type.\n",
      "     |  \n",
      "     |  ----------------------------------------------------------------------\n",
      "     |  Static methods defined here:\n",
      "     |  \n",
      "     |  __new__(*args, **kwargs) from builtins.type\n",
      "     |      Create and return a new object.  See help(type) for accurate signature.\n",
      "     |  \n",
      "     |  ----------------------------------------------------------------------\n",
      "     |  Data descriptors defined here:\n",
      "     |  \n",
      "     |  itemsize\n",
      "     |      the size, in bytes, of one array item\n",
      "     |  \n",
      "     |  typecode\n",
      "     |      the typecode character used to create the array\n",
      "     |  \n",
      "     |  ----------------------------------------------------------------------\n",
      "     |  Data and other attributes defined here:\n",
      "     |  \n",
      "     |  __hash__ = None\n",
      "\n",
      "DATA\n",
      "    typecodes = 'bBuhHiIlLqQfd'\n",
      "\n",
      "FILE\n",
      "    (built-in)\n",
      "\n",
      "\n"
     ]
    }
   ],
   "source": [
    "help(array)"
   ]
  },
  {
   "cell_type": "code",
   "execution_count": 26,
   "id": "c2578c41",
   "metadata": {},
   "outputs": [
    {
     "data": {
      "text/plain": [
       "array('i', [0, 1, 2, 3, 4, 5, 6, 7, 8, 9])"
      ]
     },
     "execution_count": 26,
     "metadata": {},
     "output_type": "execute_result"
    }
   ],
   "source": [
    "arr = array.array('i',l2)\n",
    "arr"
   ]
  },
  {
   "cell_type": "code",
   "execution_count": 28,
   "id": "1c558d70",
   "metadata": {},
   "outputs": [
    {
     "data": {
      "text/plain": [
       "array('f', [0.0, 1.0, 2.0, 3.0, 4.0, 5.0, 6.0, 7.0, 8.0, 9.0])"
      ]
     },
     "execution_count": 28,
     "metadata": {},
     "output_type": "execute_result"
    }
   ],
   "source": [
    "arr = array.array('f',l2)\n",
    "arr"
   ]
  },
  {
   "cell_type": "code",
   "execution_count": 29,
   "id": "8eefeaec",
   "metadata": {},
   "outputs": [
    {
     "data": {
      "text/plain": [
       "array.array"
      ]
     },
     "execution_count": 29,
     "metadata": {},
     "output_type": "execute_result"
    }
   ],
   "source": [
    "type(arr)"
   ]
  },
  {
   "cell_type": "code",
   "execution_count": 33,
   "id": "8c84f317",
   "metadata": {},
   "outputs": [
    {
     "data": {
      "text/plain": [
       "array('i', [0, 1, 4, 9, 16, 25, 36, 49, 64, 81])"
      ]
     },
     "execution_count": 33,
     "metadata": {},
     "output_type": "execute_result"
    }
   ],
   "source": [
    "arr = array.array('i',[x**2 for x in l2])\n",
    "arr"
   ]
  },
  {
   "cell_type": "code",
   "execution_count": 34,
   "id": "4b027653",
   "metadata": {},
   "outputs": [
    {
     "data": {
      "text/plain": [
       "array([0, 1, 2, 3, 4, 5, 6, 7, 8, 9])"
      ]
     },
     "execution_count": 34,
     "metadata": {},
     "output_type": "execute_result"
    }
   ],
   "source": [
    "np.array(l2)"
   ]
  },
  {
   "cell_type": "code",
   "execution_count": 35,
   "id": "d43d91c4",
   "metadata": {},
   "outputs": [
    {
     "data": {
      "text/plain": [
       "array([ 3,  4,  5,  6,  7,  8,  9, 10, 11, 12])"
      ]
     },
     "execution_count": 35,
     "metadata": {},
     "output_type": "execute_result"
    }
   ],
   "source": [
    "np.array([x+3 for x in range(0,10)])"
   ]
  },
  {
   "cell_type": "code",
   "execution_count": 36,
   "id": "c1fbd71f",
   "metadata": {},
   "outputs": [
    {
     "data": {
      "text/plain": [
       "array([-3, -2, -1,  0,  1,  2,  3,  4,  5,  6])"
      ]
     },
     "execution_count": 36,
     "metadata": {},
     "output_type": "execute_result"
    }
   ],
   "source": [
    "np.array([x-3 for x in range(0,10)])"
   ]
  },
  {
   "cell_type": "code",
   "execution_count": 37,
   "id": "0b8a80b9",
   "metadata": {},
   "outputs": [
    {
     "data": {
      "text/plain": [
       "array([1, 2, 3, 4])"
      ]
     },
     "execution_count": 37,
     "metadata": {},
     "output_type": "execute_result"
    }
   ],
   "source": [
    "np.array([1,2,3,4])"
   ]
  },
  {
   "cell_type": "code",
   "execution_count": 38,
   "id": "814951cb",
   "metadata": {},
   "outputs": [
    {
     "data": {
      "text/plain": [
       "array([1., 2., 3., 4.])"
      ]
     },
     "execution_count": 38,
     "metadata": {},
     "output_type": "execute_result"
    }
   ],
   "source": [
    "np.array([1,2,3,4],dtype = 'float')"
   ]
  },
  {
   "cell_type": "code",
   "execution_count": 39,
   "id": "92a0d79e",
   "metadata": {},
   "outputs": [
    {
     "data": {
      "text/plain": [
       "array(['1', '2', '3', '4'], dtype='<U1')"
      ]
     },
     "execution_count": 39,
     "metadata": {},
     "output_type": "execute_result"
    }
   ],
   "source": [
    "np.array([1,2,3,4],dtype = 'str')"
   ]
  },
  {
   "cell_type": "code",
   "execution_count": 40,
   "id": "536cd768",
   "metadata": {},
   "outputs": [
    {
     "data": {
      "text/plain": [
       "array([1., 2., 3., 4.], dtype=float32)"
      ]
     },
     "execution_count": 40,
     "metadata": {},
     "output_type": "execute_result"
    }
   ],
   "source": [
    "np.array([1,2,3,4],dtype = np.float32)"
   ]
  },
  {
   "cell_type": "code",
   "execution_count": 43,
   "id": "2a669e06",
   "metadata": {},
   "outputs": [
    {
     "data": {
      "text/plain": [
       "[[1, 2, 3, 4], [4, 5, 6, 7]]"
      ]
     },
     "execution_count": 43,
     "metadata": {},
     "output_type": "execute_result"
    }
   ],
   "source": [
    "list = [[1,2,3,4],[4,5,6,7]]\n",
    "list"
   ]
  },
  {
   "cell_type": "code",
   "execution_count": 46,
   "id": "214b4bf1",
   "metadata": {},
   "outputs": [
    {
     "data": {
      "text/plain": [
       "array([[0, 1, 2, 3, 4],\n",
       "       [5, 6, 7, 8, 9]])"
      ]
     },
     "execution_count": 46,
     "metadata": {},
     "output_type": "execute_result"
    }
   ],
   "source": [
    "np.arange(0,10).reshape(2,5)"
   ]
  },
  {
   "cell_type": "code",
   "execution_count": 48,
   "id": "6d22fc56",
   "metadata": {},
   "outputs": [
    {
     "data": {
      "text/plain": [
       "[range(1, 4), range(3, 6)]"
      ]
     },
     "execution_count": 48,
     "metadata": {},
     "output_type": "execute_result"
    }
   ],
   "source": [
    "lc =[range(i,i+3) for i in [1,3]]\n",
    "lc"
   ]
  },
  {
   "cell_type": "code",
   "execution_count": 49,
   "id": "ed2896fd",
   "metadata": {},
   "outputs": [
    {
     "data": {
      "text/plain": [
       "array([[1, 2, 3],\n",
       "       [3, 4, 5]])"
      ]
     },
     "execution_count": 49,
     "metadata": {},
     "output_type": "execute_result"
    }
   ],
   "source": [
    "np.array(lc)"
   ]
  },
  {
   "cell_type": "code",
   "execution_count": 50,
   "id": "424e4e22",
   "metadata": {},
   "outputs": [
    {
     "data": {
      "text/plain": [
       "[range(1, 4), range(9, 12)]"
      ]
     },
     "execution_count": 50,
     "metadata": {},
     "output_type": "execute_result"
    }
   ],
   "source": [
    "lc =[range(i,i+3) for i in [1,9]]\n",
    "lc"
   ]
  },
  {
   "cell_type": "code",
   "execution_count": 51,
   "id": "735e2e6f",
   "metadata": {},
   "outputs": [
    {
     "data": {
      "text/plain": [
       "array([[ 1,  2,  3],\n",
       "       [ 9, 10, 11]])"
      ]
     },
     "execution_count": 51,
     "metadata": {},
     "output_type": "execute_result"
    }
   ],
   "source": [
    "np.array(lc)"
   ]
  },
  {
   "cell_type": "code",
   "execution_count": 52,
   "id": "8bfe3a64",
   "metadata": {},
   "outputs": [
    {
     "data": {
      "text/plain": [
       "[range(1, 4), range(9, 12), range(3, 6)]"
      ]
     },
     "execution_count": 52,
     "metadata": {},
     "output_type": "execute_result"
    }
   ],
   "source": [
    "lc =[range(i,i+3) for i in [1,9,3]]\n",
    "lc"
   ]
  },
  {
   "cell_type": "code",
   "execution_count": 53,
   "id": "4c51ec13",
   "metadata": {},
   "outputs": [
    {
     "data": {
      "text/plain": [
       "array([[ 1,  2,  3],\n",
       "       [ 9, 10, 11],\n",
       "       [ 3,  4,  5]])"
      ]
     },
     "execution_count": 53,
     "metadata": {},
     "output_type": "execute_result"
    }
   ],
   "source": [
    "np.array(lc)"
   ]
  },
  {
   "cell_type": "code",
   "execution_count": 54,
   "id": "210cfa78",
   "metadata": {},
   "outputs": [
    {
     "data": {
      "text/plain": [
       "array([0., 0., 0., 0., 0., 0., 0., 0., 0., 0.])"
      ]
     },
     "execution_count": 54,
     "metadata": {},
     "output_type": "execute_result"
    }
   ],
   "source": [
    "np.zeros(10)"
   ]
  },
  {
   "cell_type": "code",
   "execution_count": 56,
   "id": "bfaa4543",
   "metadata": {},
   "outputs": [
    {
     "data": {
      "text/plain": [
       "array([[0, 0],\n",
       "       [0, 0]])"
      ]
     },
     "execution_count": 56,
     "metadata": {},
     "output_type": "execute_result"
    }
   ],
   "source": [
    "np.zeros([2,2],dtype = 'int32')"
   ]
  },
  {
   "cell_type": "code",
   "execution_count": 57,
   "id": "bc68b31a",
   "metadata": {},
   "outputs": [
    {
     "data": {
      "text/plain": [
       "array([[0, 0, 0, 0, 0, 0, 0, 0, 0, 0],\n",
       "       [0, 0, 0, 0, 0, 0, 0, 0, 0, 0],\n",
       "       [0, 0, 0, 0, 0, 0, 0, 0, 0, 0],\n",
       "       [0, 0, 0, 0, 0, 0, 0, 0, 0, 0],\n",
       "       [0, 0, 0, 0, 0, 0, 0, 0, 0, 0],\n",
       "       [0, 0, 0, 0, 0, 0, 0, 0, 0, 0],\n",
       "       [0, 0, 0, 0, 0, 0, 0, 0, 0, 0],\n",
       "       [0, 0, 0, 0, 0, 0, 0, 0, 0, 0],\n",
       "       [0, 0, 0, 0, 0, 0, 0, 0, 0, 0],\n",
       "       [0, 0, 0, 0, 0, 0, 0, 0, 0, 0]])"
      ]
     },
     "execution_count": 57,
     "metadata": {},
     "output_type": "execute_result"
    }
   ],
   "source": [
    "np.zeros([10,10],dtype = 'int32')"
   ]
  },
  {
   "cell_type": "code",
   "execution_count": 58,
   "id": "c1747c29",
   "metadata": {},
   "outputs": [
    {
     "data": {
      "text/plain": [
       "array([[0, 0, 0, 0],\n",
       "       [0, 0, 0, 0],\n",
       "       [0, 0, 0, 0]])"
      ]
     },
     "execution_count": 58,
     "metadata": {},
     "output_type": "execute_result"
    }
   ],
   "source": [
    "np.zeros([3,4],dtype = 'int32')"
   ]
  },
  {
   "cell_type": "code",
   "execution_count": 59,
   "id": "1914a8bb",
   "metadata": {},
   "outputs": [
    {
     "data": {
      "text/plain": [
       "array([[1., 1., 1., 1.],\n",
       "       [1., 1., 1., 1.],\n",
       "       [1., 1., 1., 1.]])"
      ]
     },
     "execution_count": 59,
     "metadata": {},
     "output_type": "execute_result"
    }
   ],
   "source": [
    "np.ones((3,4))"
   ]
  },
  {
   "cell_type": "code",
   "execution_count": 60,
   "id": "83359fa9",
   "metadata": {},
   "outputs": [
    {
     "data": {
      "text/plain": [
       "array([1., 1., 1., 1., 1., 1., 1., 1., 1., 1.])"
      ]
     },
     "execution_count": 60,
     "metadata": {},
     "output_type": "execute_result"
    }
   ],
   "source": [
    "np.ones(10)"
   ]
  },
  {
   "cell_type": "code",
   "execution_count": 8,
   "id": "0ed3732b",
   "metadata": {},
   "outputs": [
    {
     "data": {
      "text/plain": [
       "array([[0., 0., 0., 0., 0., 0., 0., 0., 0., 0.],\n",
       "       [0., 0., 0., 0., 0., 0., 0., 0., 0., 0.],\n",
       "       [0., 0., 0., 0., 0., 0., 0., 0., 0., 0.],\n",
       "       [0., 0., 0., 0., 0., 0., 0., 0., 0., 0.],\n",
       "       [0., 0., 0., 0., 0., 0., 0., 0., 0., 0.],\n",
       "       [0., 0., 0., 0., 0., 0., 0., 0., 0., 0.],\n",
       "       [0., 0., 0., 0., 0., 0., 0., 0., 0., 0.],\n",
       "       [0., 0., 0., 0., 0., 0., 0., 0., 0., 0.],\n",
       "       [0., 0., 0., 0., 0., 0., 0., 0., 0., 0.],\n",
       "       [0., 0., 0., 0., 0., 0., 0., 0., 0., 0.]])"
      ]
     },
     "execution_count": 8,
     "metadata": {},
     "output_type": "execute_result"
    }
   ],
   "source": [
    "arr = np.zeros((10,10))\n",
    "arr"
   ]
  },
  {
   "cell_type": "code",
   "execution_count": 9,
   "id": "c9746507",
   "metadata": {},
   "outputs": [
    {
     "data": {
      "text/plain": [
       "array([[0., 0., 0., 0., 0., 0., 0., 0., 0., 0.],\n",
       "       [0., 1., 1., 1., 1., 1., 1., 1., 1., 0.],\n",
       "       [0., 1., 1., 1., 1., 1., 1., 1., 1., 0.],\n",
       "       [0., 1., 1., 1., 1., 1., 1., 1., 1., 0.],\n",
       "       [0., 1., 1., 1., 1., 1., 1., 1., 1., 0.],\n",
       "       [0., 1., 1., 1., 1., 1., 1., 1., 1., 0.],\n",
       "       [0., 1., 1., 1., 1., 1., 1., 1., 1., 0.],\n",
       "       [0., 1., 1., 1., 1., 1., 1., 1., 1., 0.],\n",
       "       [0., 1., 1., 1., 1., 1., 1., 1., 1., 0.],\n",
       "       [0., 0., 0., 0., 0., 0., 0., 0., 0., 0.]])"
      ]
     },
     "execution_count": 9,
     "metadata": {},
     "output_type": "execute_result"
    }
   ],
   "source": [
    "arr[1:9,1:9]= 1\n",
    "arr"
   ]
  },
  {
   "cell_type": "code",
   "execution_count": 75,
   "id": "e50433cf",
   "metadata": {},
   "outputs": [
    {
     "data": {
      "text/plain": [
       "array([[0., 0., 0., 0., 0., 0., 0., 0., 0., 0.],\n",
       "       [1., 9., 9., 9., 9., 9., 9., 9., 1., 1.],\n",
       "       [1., 9., 8., 8., 8., 8., 8., 8., 1., 1.],\n",
       "       [1., 9., 8., 8., 8., 8., 8., 8., 1., 1.],\n",
       "       [1., 9., 8., 8., 8., 8., 8., 8., 1., 1.],\n",
       "       [1., 9., 8., 8., 8., 8., 8., 8., 1., 1.],\n",
       "       [1., 9., 8., 8., 8., 8., 8., 8., 1., 1.],\n",
       "       [1., 9., 8., 8., 8., 8., 8., 8., 1., 1.],\n",
       "       [0., 1., 1., 1., 1., 1., 1., 1., 1., 0.],\n",
       "       [0., 0., 0., 0., 0., 0., 0., 0., 0., 0.]])"
      ]
     },
     "execution_count": 75,
     "metadata": {},
     "output_type": "execute_result"
    }
   ],
   "source": [
    "arr[2:8,2:8]=8\n",
    "arr"
   ]
  },
  {
   "cell_type": "code",
   "execution_count": 76,
   "id": "af3bb967",
   "metadata": {},
   "outputs": [
    {
     "data": {
      "text/plain": [
       "array([[0., 0., 0., 0., 0., 0., 0., 0., 0., 0.],\n",
       "       [1., 9., 9., 9., 9., 9., 9., 9., 1., 1.],\n",
       "       [1., 9., 8., 8., 8., 8., 8., 8., 1., 1.],\n",
       "       [1., 9., 8., 7., 7., 7., 7., 8., 1., 1.],\n",
       "       [1., 9., 8., 7., 7., 7., 7., 8., 1., 1.],\n",
       "       [1., 9., 8., 7., 7., 7., 7., 8., 1., 1.],\n",
       "       [1., 9., 8., 7., 7., 7., 7., 8., 1., 1.],\n",
       "       [1., 9., 8., 8., 8., 8., 8., 8., 1., 1.],\n",
       "       [0., 1., 1., 1., 1., 1., 1., 1., 1., 0.],\n",
       "       [0., 0., 0., 0., 0., 0., 0., 0., 0., 0.]])"
      ]
     },
     "execution_count": 76,
     "metadata": {},
     "output_type": "execute_result"
    }
   ],
   "source": [
    "arr[3:7,3:7]=7\n",
    "arr"
   ]
  },
  {
   "cell_type": "code",
   "execution_count": 79,
   "id": "7d89fff7",
   "metadata": {},
   "outputs": [
    {
     "data": {
      "text/plain": [
       "array([[0., 0., 0., 0., 0., 0., 0., 0., 0., 0.],\n",
       "       [1., 9., 9., 9., 9., 9., 9., 9., 1., 1.],\n",
       "       [1., 9., 8., 8., 8., 8., 8., 8., 1., 1.],\n",
       "       [1., 9., 8., 7., 7., 7., 7., 8., 1., 1.],\n",
       "       [1., 9., 8., 7., 6., 6., 7., 8., 1., 1.],\n",
       "       [1., 9., 8., 7., 6., 6., 7., 8., 1., 1.],\n",
       "       [1., 9., 8., 7., 7., 7., 7., 8., 1., 1.],\n",
       "       [1., 9., 8., 8., 8., 8., 8., 8., 1., 1.],\n",
       "       [0., 1., 1., 1., 1., 1., 1., 1., 1., 0.],\n",
       "       [0., 0., 0., 0., 0., 0., 0., 0., 0., 0.]])"
      ]
     },
     "execution_count": 79,
     "metadata": {},
     "output_type": "execute_result"
    }
   ],
   "source": [
    "arr[4:6,4:6]=6\n",
    "arr"
   ]
  },
  {
   "cell_type": "code",
   "execution_count": 84,
   "id": "2de3d81c",
   "metadata": {},
   "outputs": [
    {
     "data": {
      "text/plain": [
       "array([[0., 1., 2.],\n",
       "       [3., 4., 5.],\n",
       "       [6., 7., 8.]])"
      ]
     },
     "execution_count": 84,
     "metadata": {},
     "output_type": "execute_result"
    }
   ],
   "source": [
    "ar = np.arange(0,9,dtype='float').reshape(3,3)\n",
    "ar"
   ]
  },
  {
   "cell_type": "code",
   "execution_count": 86,
   "id": "51b5c1de",
   "metadata": {},
   "outputs": [
    {
     "data": {
      "text/plain": [
       "array([[3.14, 3.14, 3.14],\n",
       "       [3.14, 3.14, 3.14],\n",
       "       [3.14, 3.14, 3.14]])"
      ]
     },
     "execution_count": 86,
     "metadata": {},
     "output_type": "execute_result"
    }
   ],
   "source": [
    "ar[:] = 3.14\n",
    "ar"
   ]
  },
  {
   "cell_type": "code",
   "execution_count": 90,
   "id": "ff5b5b76",
   "metadata": {},
   "outputs": [
    {
     "data": {
      "text/plain": [
       "array([['abc', 'abc', 'abc', 'abc'],\n",
       "       ['abc', 'abc', 'abc', 'abc'],\n",
       "       ['abc', 'abc', 'abc', 'abc']], dtype='<U3')"
      ]
     },
     "execution_count": 90,
     "metadata": {},
     "output_type": "execute_result"
    }
   ],
   "source": [
    "np.full((3,4),'abc')"
   ]
  },
  {
   "cell_type": "code",
   "execution_count": 92,
   "id": "bfc2b1da",
   "metadata": {},
   "outputs": [],
   "source": [
    "#identity matrix\n",
    "np.eye?"
   ]
  },
  {
   "cell_type": "code",
   "execution_count": 93,
   "id": "ccf9aafa",
   "metadata": {},
   "outputs": [
    {
     "data": {
      "text/plain": [
       "array([[1., 0., 0.],\n",
       "       [0., 1., 0.],\n",
       "       [0., 0., 1.]])"
      ]
     },
     "execution_count": 93,
     "metadata": {},
     "output_type": "execute_result"
    }
   ],
   "source": [
    "np.eye(3)"
   ]
  },
  {
   "cell_type": "code",
   "execution_count": 94,
   "id": "f1ed0afd",
   "metadata": {},
   "outputs": [
    {
     "data": {
      "text/plain": [
       "array([[1., 0., 0., 0., 0.],\n",
       "       [0., 1., 0., 0., 0.],\n",
       "       [0., 0., 1., 0., 0.],\n",
       "       [0., 0., 0., 1., 0.],\n",
       "       [0., 0., 0., 0., 1.]])"
      ]
     },
     "execution_count": 94,
     "metadata": {},
     "output_type": "execute_result"
    }
   ],
   "source": [
    "np.eye(5)"
   ]
  },
  {
   "cell_type": "code",
   "execution_count": 95,
   "id": "a78cf48d",
   "metadata": {},
   "outputs": [
    {
     "data": {
      "text/plain": [
       "array([[1., 0., 0.],\n",
       "       [0., 1., 0.],\n",
       "       [0., 0., 1.]])"
      ]
     },
     "execution_count": 95,
     "metadata": {},
     "output_type": "execute_result"
    }
   ],
   "source": [
    "np.transpose(np.eye(3))"
   ]
  },
  {
   "cell_type": "code",
   "execution_count": null,
   "id": "b2d39503",
   "metadata": {},
   "outputs": [],
   "source": [
    "#list\n",
    "#list comprehesion\n",
    "#array modules(imported library array)\n",
    "#numpy array(zeros,ones,full,eye,arange)\n",
    "#reshape\n",
    "#indexing"
   ]
  },
  {
   "cell_type": "code",
   "execution_count": 5,
   "id": "2056aaea",
   "metadata": {},
   "outputs": [
    {
     "data": {
      "text/plain": [
       "array([[64, 64, 64, 64, 64, 64],\n",
       "       [64, 64, 64, 64, 64, 64],\n",
       "       [64, 64, 64, 64, 64, 64],\n",
       "       [64, 64, 64, 64, 64, 64],\n",
       "       [64, 64, 64, 64, 64, 64],\n",
       "       [64, 64, 64, 64, 64, 64]])"
      ]
     },
     "execution_count": 5,
     "metadata": {},
     "output_type": "execute_result"
    }
   ],
   "source": [
    "import numpy as np\n",
    "a = np.full([6,6],64)\n",
    "a"
   ]
  },
  {
   "cell_type": "code",
   "execution_count": 6,
   "id": "1ad00187",
   "metadata": {},
   "outputs": [
    {
     "data": {
      "text/plain": [
       "array([0.  , 0.25, 0.5 , 0.75, 1.  ])"
      ]
     },
     "execution_count": 6,
     "metadata": {},
     "output_type": "execute_result"
    }
   ],
   "source": [
    "#linspace-linearly spaced elements\n",
    "np.linspace(0,1,5)"
   ]
  },
  {
   "cell_type": "code",
   "execution_count": 7,
   "id": "9a72ed09",
   "metadata": {},
   "outputs": [
    {
     "data": {
      "text/plain": [
       "array([ 0. ,  2.5,  5. ,  7.5, 10. ])"
      ]
     },
     "execution_count": 7,
     "metadata": {},
     "output_type": "execute_result"
    }
   ],
   "source": [
    "np.linspace(0,10,5)"
   ]
  },
  {
   "cell_type": "code",
   "execution_count": 8,
   "id": "51eff8ee",
   "metadata": {},
   "outputs": [
    {
     "data": {
      "text/plain": [
       "array([0.   , 0.025, 0.05 , 0.075, 0.1  ])"
      ]
     },
     "execution_count": 8,
     "metadata": {},
     "output_type": "execute_result"
    }
   ],
   "source": [
    "np.linspace(0,0.1,5)"
   ]
  },
  {
   "cell_type": "code",
   "execution_count": 9,
   "id": "08242042",
   "metadata": {},
   "outputs": [
    {
     "data": {
      "text/plain": [
       "array([0.        , 0.01010101, 0.02020202, 0.03030303, 0.04040404,\n",
       "       0.05050505, 0.06060606, 0.07070707, 0.08080808, 0.09090909,\n",
       "       0.1010101 , 0.11111111, 0.12121212, 0.13131313, 0.14141414,\n",
       "       0.15151515, 0.16161616, 0.17171717, 0.18181818, 0.19191919,\n",
       "       0.2020202 , 0.21212121, 0.22222222, 0.23232323, 0.24242424,\n",
       "       0.25252525, 0.26262626, 0.27272727, 0.28282828, 0.29292929,\n",
       "       0.3030303 , 0.31313131, 0.32323232, 0.33333333, 0.34343434,\n",
       "       0.35353535, 0.36363636, 0.37373737, 0.38383838, 0.39393939,\n",
       "       0.4040404 , 0.41414141, 0.42424242, 0.43434343, 0.44444444,\n",
       "       0.45454545, 0.46464646, 0.47474747, 0.48484848, 0.49494949,\n",
       "       0.50505051, 0.51515152, 0.52525253, 0.53535354, 0.54545455,\n",
       "       0.55555556, 0.56565657, 0.57575758, 0.58585859, 0.5959596 ,\n",
       "       0.60606061, 0.61616162, 0.62626263, 0.63636364, 0.64646465,\n",
       "       0.65656566, 0.66666667, 0.67676768, 0.68686869, 0.6969697 ,\n",
       "       0.70707071, 0.71717172, 0.72727273, 0.73737374, 0.74747475,\n",
       "       0.75757576, 0.76767677, 0.77777778, 0.78787879, 0.7979798 ,\n",
       "       0.80808081, 0.81818182, 0.82828283, 0.83838384, 0.84848485,\n",
       "       0.85858586, 0.86868687, 0.87878788, 0.88888889, 0.8989899 ,\n",
       "       0.90909091, 0.91919192, 0.92929293, 0.93939394, 0.94949495,\n",
       "       0.95959596, 0.96969697, 0.97979798, 0.98989899, 1.        ])"
      ]
     },
     "execution_count": 9,
     "metadata": {},
     "output_type": "execute_result"
    }
   ],
   "source": [
    "np.linspace(0,1,100)"
   ]
  },
  {
   "cell_type": "code",
   "execution_count": 11,
   "id": "769c9f5e",
   "metadata": {},
   "outputs": [
    {
     "data": {
      "text/plain": [
       "array([15.        , 15.26315789, 15.52631579, 15.78947368, 16.05263158,\n",
       "       16.31578947, 16.57894737, 16.84210526, 17.10526316, 17.36842105,\n",
       "       17.63157895, 17.89473684, 18.15789474, 18.42105263, 18.68421053,\n",
       "       18.94736842, 19.21052632, 19.47368421, 19.73684211, 20.        ])"
      ]
     },
     "execution_count": 11,
     "metadata": {},
     "output_type": "execute_result"
    }
   ],
   "source": [
    "np.linspace(15,20,20)"
   ]
  },
  {
   "cell_type": "code",
   "execution_count": 13,
   "id": "52f151be",
   "metadata": {},
   "outputs": [
    {
     "data": {
      "text/plain": [
       "array([[0.90059716, 0.69834068, 0.24894002],\n",
       "       [0.07280642, 0.02985681, 0.37268952],\n",
       "       [0.79923278, 0.67375921, 0.73879404]])"
      ]
     },
     "execution_count": 13,
     "metadata": {},
     "output_type": "execute_result"
    }
   ],
   "source": [
    "np.random.random((3,3))"
   ]
  },
  {
   "cell_type": "code",
   "execution_count": 14,
   "id": "fd0a8bcd",
   "metadata": {},
   "outputs": [
    {
     "data": {
      "text/plain": [
       "array([0.14195424, 0.96270378, 0.83692168])"
      ]
     },
     "execution_count": 14,
     "metadata": {},
     "output_type": "execute_result"
    }
   ],
   "source": [
    "np.random.random(3)"
   ]
  },
  {
   "cell_type": "code",
   "execution_count": 15,
   "id": "d11217d5",
   "metadata": {},
   "outputs": [
    {
     "data": {
      "text/plain": [
       "array([[0.48779601, 0.06446191, 0.59013172],\n",
       "       [0.30421978, 0.4374596 , 0.42968404]])"
      ]
     },
     "execution_count": 15,
     "metadata": {},
     "output_type": "execute_result"
    }
   ],
   "source": [
    "np.random.random((2,3))"
   ]
  },
  {
   "cell_type": "code",
   "execution_count": 19,
   "id": "5d9a2dda",
   "metadata": {},
   "outputs": [
    {
     "data": {
      "text/plain": [
       "array([[-1.12615539,  1.82876908,  4.77940108],\n",
       "       [ 3.75463686,  3.03553406,  0.99210238],\n",
       "       [ 0.92137976,  2.24791951,  1.98715561]])"
      ]
     },
     "execution_count": 19,
     "metadata": {},
     "output_type": "execute_result"
    }
   ],
   "source": [
    "np.random.normal(2,3,size=(3,3))\n",
    "#values with mean and std 1"
   ]
  },
  {
   "cell_type": "code",
   "execution_count": 24,
   "id": "ce513032",
   "metadata": {},
   "outputs": [
    {
     "data": {
      "text/plain": [
       "array([[ 3.65702842,  0.99355866,  0.10978218,  1.83864219, -2.95787056,\n",
       "         4.93221791,  1.02388055, -1.00434893,  1.27209509,  3.67758215],\n",
       "       [ 1.57846124,  2.51025685,  2.52354035,  2.2355444 ,  0.21510996,\n",
       "         2.44853731,  6.37427385, -4.4136362 ,  2.45622452, -0.80810193],\n",
       "       [-3.91175085,  7.15218869, -0.33641363,  2.82991607, -4.05541663,\n",
       "         1.97993739,  7.43425007,  1.33075676, -2.65077374, -0.5040048 ],\n",
       "       [ 5.23460482,  4.69898037, -3.29750236,  3.79206385,  1.87317993,\n",
       "        -0.80260696, -0.76646774, -0.31746608,  2.59867083,  1.36371048],\n",
       "       [ 0.06721839, -0.82800531,  2.26320254, -1.49289017,  0.46035191,\n",
       "         9.01215868, -0.88232599,  1.91678791,  2.85486228, 10.76231121],\n",
       "       [-6.12941932, -1.83849641,  9.55580671,  3.60487711,  1.21828619,\n",
       "        -0.22359957, -0.29976425,  4.3247907 ,  1.85072528,  5.12348771],\n",
       "       [ 2.77166636,  2.81854473,  2.40457532,  9.70564278, -0.73629561,\n",
       "        -1.88674399,  3.55133486,  2.9415699 , -2.66816241,  9.68618676],\n",
       "       [ 4.10454204,  4.17325189,  3.08900662,  5.59460594,  4.66117271,\n",
       "         1.54882533, -1.67329443,  4.45428665,  5.10173978,  0.84773825],\n",
       "       [ 4.05108741,  5.18321584,  1.80377179,  0.78664401,  9.43241928,\n",
       "         3.62449899, -0.32844332, -2.10098913,  6.16084123,  1.64034649],\n",
       "       [ 3.52259706, -0.89168953,  0.73275586, -1.08761492, -3.81523734,\n",
       "        -1.51022362,  1.72360367,  0.0506691 , -1.0894732 , -8.11530536]])"
      ]
     },
     "execution_count": 24,
     "metadata": {},
     "output_type": "execute_result"
    }
   ],
   "source": [
    "np.random.normal(2,3,size=(10,10))"
   ]
  },
  {
   "cell_type": "code",
   "execution_count": 28,
   "id": "d2cf3176",
   "metadata": {},
   "outputs": [
    {
     "data": {
      "text/plain": [
       "array([[ 0.190224  , -0.69775661],\n",
       "       [-1.80437787,  0.78331257]])"
      ]
     },
     "execution_count": 28,
     "metadata": {},
     "output_type": "execute_result"
    }
   ],
   "source": [
    "np.random.normal(0,1,(2,2))"
   ]
  },
  {
   "cell_type": "code",
   "execution_count": 31,
   "id": "e447e281",
   "metadata": {},
   "outputs": [
    {
     "data": {
      "text/plain": [
       "array([0.77132064, 0.02075195, 0.63364823, 0.74880388, 0.49850701,\n",
       "       0.22479665, 0.19806286, 0.76053071, 0.16911084, 0.08833981])"
      ]
     },
     "execution_count": 31,
     "metadata": {},
     "output_type": "execute_result"
    }
   ],
   "source": [
    "np.random.seed(10)\n",
    "np.random.random(10)"
   ]
  },
  {
   "cell_type": "code",
   "execution_count": 42,
   "id": "41534b8f",
   "metadata": {},
   "outputs": [
    {
     "data": {
      "text/plain": [
       "array([0.07630829, 0.77991879, 0.43840923, 0.72346518, 0.97798951])"
      ]
     },
     "execution_count": 42,
     "metadata": {},
     "output_type": "execute_result"
    }
   ],
   "source": [
    "np.random.seed(7)\n",
    "np.random.random(5)"
   ]
  },
  {
   "cell_type": "code",
   "execution_count": 48,
   "id": "db668a5a",
   "metadata": {},
   "outputs": [
    {
     "data": {
      "text/plain": [
       "array([64, 73, 58, 75, 96, 92, 76, 58, 89, 88, 54, 98, 57, 94, 50, 61, 56,\n",
       "       69, 94, 55, 74, 98, 50, 84, 59, 64, 88, 54, 96, 59, 73, 85, 53, 58,\n",
       "       69, 98])"
      ]
     },
     "execution_count": 48,
     "metadata": {},
     "output_type": "execute_result"
    }
   ],
   "source": [
    "np.random.randint(50,100,36)"
   ]
  },
  {
   "cell_type": "code",
   "execution_count": 50,
   "id": "b59ea269",
   "metadata": {},
   "outputs": [],
   "source": [
    "np.random.randn?"
   ]
  },
  {
   "cell_type": "code",
   "execution_count": null,
   "id": "6978d3db",
   "metadata": {},
   "outputs": [],
   "source": [
    "#operation on numpy array\n"
   ]
  },
  {
   "cell_type": "code",
   "execution_count": 55,
   "id": "a2d9633f",
   "metadata": {},
   "outputs": [
    {
     "data": {
      "text/plain": [
       "array([[75, 58],\n",
       "       [47, 16]])"
      ]
     },
     "execution_count": 55,
     "metadata": {},
     "output_type": "execute_result"
    }
   ],
   "source": [
    "arr = np.random.randint(0,100,(2,2))\n",
    "arr"
   ]
  },
  {
   "cell_type": "code",
   "execution_count": 56,
   "id": "e6b5f057",
   "metadata": {},
   "outputs": [
    {
     "data": {
      "text/plain": [
       "2"
      ]
     },
     "execution_count": 56,
     "metadata": {},
     "output_type": "execute_result"
    }
   ],
   "source": [
    "arr.ndim # number of dimensions"
   ]
  },
  {
   "cell_type": "code",
   "execution_count": 57,
   "id": "f8d6c914",
   "metadata": {},
   "outputs": [
    {
     "data": {
      "text/plain": [
       "4"
      ]
     },
     "execution_count": 57,
     "metadata": {},
     "output_type": "execute_result"
    }
   ],
   "source": [
    "arr.size # number of an element of an array"
   ]
  },
  {
   "cell_type": "code",
   "execution_count": 58,
   "id": "299d1498",
   "metadata": {},
   "outputs": [
    {
     "data": {
      "text/plain": [
       "(2, 2)"
      ]
     },
     "execution_count": 58,
     "metadata": {},
     "output_type": "execute_result"
    }
   ],
   "source": [
    "arr.shape"
   ]
  },
  {
   "cell_type": "code",
   "execution_count": 59,
   "id": "d2381292",
   "metadata": {},
   "outputs": [
    {
     "data": {
      "text/plain": [
       "dtype('int32')"
      ]
     },
     "execution_count": 59,
     "metadata": {},
     "output_type": "execute_result"
    }
   ],
   "source": [
    "arr.dtype"
   ]
  },
  {
   "cell_type": "markdown",
   "id": "ab9ecff3",
   "metadata": {},
   "source": [
    "#array indexing"
   ]
  },
  {
   "cell_type": "code",
   "execution_count": 64,
   "id": "4f20a38a",
   "metadata": {},
   "outputs": [
    {
     "data": {
      "text/plain": [
       "array([ 9, 23, 21,  4, 27, 12, 11,  6, 33, 21])"
      ]
     },
     "execution_count": 64,
     "metadata": {},
     "output_type": "execute_result"
    }
   ],
   "source": [
    "arr1 = np.random.randint(0,40,10)\n",
    "arr1"
   ]
  },
  {
   "cell_type": "code",
   "execution_count": 66,
   "id": "dfc33661",
   "metadata": {},
   "outputs": [
    {
     "data": {
      "text/plain": [
       "27"
      ]
     },
     "execution_count": 66,
     "metadata": {},
     "output_type": "execute_result"
    }
   ],
   "source": [
    "arr1[4]"
   ]
  },
  {
   "cell_type": "code",
   "execution_count": 67,
   "id": "aaff2b0b",
   "metadata": {},
   "outputs": [
    {
     "data": {
      "text/plain": [
       "21"
      ]
     },
     "execution_count": 67,
     "metadata": {},
     "output_type": "execute_result"
    }
   ],
   "source": [
    "arr1[-1]"
   ]
  },
  {
   "cell_type": "code",
   "execution_count": 68,
   "id": "d4ef3e6c",
   "metadata": {},
   "outputs": [
    {
     "data": {
      "text/plain": [
       "array([ 9, 23, 21,  4])"
      ]
     },
     "execution_count": 68,
     "metadata": {},
     "output_type": "execute_result"
    }
   ],
   "source": [
    "arr1[:4]"
   ]
  },
  {
   "cell_type": "code",
   "execution_count": 69,
   "id": "755efd76",
   "metadata": {},
   "outputs": [
    {
     "data": {
      "text/plain": [
       "array([27, 12, 11,  6, 33, 21])"
      ]
     },
     "execution_count": 69,
     "metadata": {},
     "output_type": "execute_result"
    }
   ],
   "source": [
    "arr1[4:]"
   ]
  },
  {
   "cell_type": "code",
   "execution_count": 70,
   "id": "23541fa5",
   "metadata": {},
   "outputs": [
    {
     "data": {
      "text/plain": [
       "array([27, 12, 11])"
      ]
     },
     "execution_count": 70,
     "metadata": {},
     "output_type": "execute_result"
    }
   ],
   "source": [
    "arr1[4:7]"
   ]
  },
  {
   "cell_type": "code",
   "execution_count": 77,
   "id": "67bf6c4c",
   "metadata": {},
   "outputs": [
    {
     "data": {
      "text/plain": [
       "array([ 9, 23, 21, 20, 27, 12, 11,  6, 33, 21])"
      ]
     },
     "execution_count": 77,
     "metadata": {},
     "output_type": "execute_result"
    }
   ],
   "source": [
    "arr1[3]=20.25\n",
    "arr1"
   ]
  },
  {
   "cell_type": "code",
   "execution_count": 40,
   "id": "bb850af5",
   "metadata": {},
   "outputs": [
    {
     "data": {
      "text/plain": [
       "array([10, 20])"
      ]
     },
     "execution_count": 40,
     "metadata": {},
     "output_type": "execute_result"
    }
   ],
   "source": [
    "a=np.array([10,20])\n",
    "a"
   ]
  },
  {
   "cell_type": "code",
   "execution_count": 120,
   "id": "6459d14a",
   "metadata": {},
   "outputs": [],
   "source": [
    "list=[[10,20,20],[40,50,50]]\n",
    "list\n",
    "list3=[[1,2,3,4],[5,6,7,8],[9,10,11,12]]"
   ]
  },
  {
   "cell_type": "code",
   "execution_count": 113,
   "id": "930eef83",
   "metadata": {},
   "outputs": [
    {
     "data": {
      "text/plain": [
       "(2, 3)"
      ]
     },
     "execution_count": 113,
     "metadata": {},
     "output_type": "execute_result"
    }
   ],
   "source": [
    "c = np.array(list)\n",
    "c\n",
    "c.dtype\n",
    "c.shape\n"
   ]
  },
  {
   "cell_type": "code",
   "execution_count": 114,
   "id": "d2c97e7b",
   "metadata": {},
   "outputs": [
    {
     "data": {
      "text/plain": [
       "(3, 2)"
      ]
     },
     "execution_count": 114,
     "metadata": {},
     "output_type": "execute_result"
    }
   ],
   "source": [
    "d.shape"
   ]
  },
  {
   "cell_type": "code",
   "execution_count": 123,
   "id": "d3e55708",
   "metadata": {},
   "outputs": [
    {
     "data": {
      "text/plain": [
       "2"
      ]
     },
     "execution_count": 123,
     "metadata": {},
     "output_type": "execute_result"
    }
   ],
   "source": [
    "d.ndim"
   ]
  },
  {
   "cell_type": "code",
   "execution_count": 117,
   "id": "d52c34c4",
   "metadata": {},
   "outputs": [
    {
     "data": {
      "text/plain": [
       "2"
      ]
     },
     "execution_count": 117,
     "metadata": {},
     "output_type": "execute_result"
    }
   ],
   "source": [
    "c.ndim"
   ]
  },
  {
   "cell_type": "code",
   "execution_count": 118,
   "id": "f99f3ed0",
   "metadata": {},
   "outputs": [
    {
     "data": {
      "text/plain": [
       "1"
      ]
     },
     "execution_count": 118,
     "metadata": {},
     "output_type": "execute_result"
    }
   ],
   "source": [
    "a.ndim"
   ]
  },
  {
   "cell_type": "code",
   "execution_count": 124,
   "id": "deb640d7",
   "metadata": {},
   "outputs": [
    {
     "data": {
      "text/plain": [
       "array([0., 0., 0., 0., 0., 0., 0., 0., 0., 0., 0., 0.])"
      ]
     },
     "execution_count": 124,
     "metadata": {},
     "output_type": "execute_result"
    }
   ],
   "source": [
    "np.zeros(12)"
   ]
  },
  {
   "cell_type": "code",
   "execution_count": 126,
   "id": "fa2c4531",
   "metadata": {},
   "outputs": [
    {
     "data": {
      "text/plain": [
       "array([[1., 1.],\n",
       "       [1., 1.]])"
      ]
     },
     "execution_count": 126,
     "metadata": {},
     "output_type": "execute_result"
    }
   ],
   "source": [
    "np.ones((2,2))"
   ]
  },
  {
   "cell_type": "code",
   "execution_count": 130,
   "id": "5a7ea560",
   "metadata": {},
   "outputs": [
    {
     "data": {
      "text/plain": [
       "array([56, 51, 55, 12, 76, 36, 71, 85, 58, 41, 15, 43, 59, 82, 63, 28, 16,\n",
       "        5, 35, 77])"
      ]
     },
     "execution_count": 130,
     "metadata": {},
     "output_type": "execute_result"
    }
   ],
   "source": [
    "maths=np.random.randint(0,100,20)\n",
    "maths"
   ]
  },
  {
   "cell_type": "code",
   "execution_count": 44,
   "id": "f473cca1",
   "metadata": {},
   "outputs": [
    {
     "data": {
      "text/plain": [
       "array([], dtype=int32)"
      ]
     },
     "execution_count": 44,
     "metadata": {},
     "output_type": "execute_result"
    }
   ],
   "source": [
    "import  numpy as np\n",
    "arr = [1,2,3,4,5,6]\n",
    "a[2:4:2]"
   ]
  },
  {
   "cell_type": "code",
   "execution_count": 12,
   "id": "6f15e546",
   "metadata": {},
   "outputs": [
    {
     "data": {
      "text/plain": [
       "[1, 3, 5]"
      ]
     },
     "execution_count": 12,
     "metadata": {},
     "output_type": "execute_result"
    }
   ],
   "source": [
    "arr[::2]"
   ]
  },
  {
   "cell_type": "code",
   "execution_count": 42,
   "id": "c5517d2b",
   "metadata": {},
   "outputs": [
    {
     "data": {
      "text/plain": [
       "[6, 5, 4, 3, 2, 1]"
      ]
     },
     "execution_count": 42,
     "metadata": {},
     "output_type": "execute_result"
    }
   ],
   "source": [
    "#reverse\n",
    "arr[::-1]"
   ]
  },
  {
   "cell_type": "code",
   "execution_count": 16,
   "id": "8a5fda86",
   "metadata": {},
   "outputs": [
    {
     "data": {
      "text/plain": [
       "[6, 4, 2]"
      ]
     },
     "execution_count": 16,
     "metadata": {},
     "output_type": "execute_result"
    }
   ],
   "source": [
    "arr[::-2]"
   ]
  },
  {
   "cell_type": "code",
   "execution_count": 21,
   "id": "0c9c894a",
   "metadata": {},
   "outputs": [
    {
     "data": {
      "text/plain": [
       "array([[7, 3, 5, 6],\n",
       "       [1, 4, 1, 1],\n",
       "       [0, 2, 6, 5],\n",
       "       [2, 8, 9, 4]])"
      ]
     },
     "execution_count": 21,
     "metadata": {},
     "output_type": "execute_result"
    }
   ],
   "source": [
    "r = np.random.randint(0,10,(4,4))\n",
    "r"
   ]
  },
  {
   "cell_type": "markdown",
   "id": "b2f21d05",
   "metadata": {},
   "source": []
  },
  {
   "cell_type": "code",
   "execution_count": 5,
   "id": "41d8080b",
   "metadata": {},
   "outputs": [
    {
     "data": {
      "text/plain": [
       "array([[ 0,  1,  2,  3,  4],\n",
       "       [ 5,  6,  7,  8,  9],\n",
       "       [10, 11, 12, 13, 14],\n",
       "       [15, 16, 17, 18, 19],\n",
       "       [20, 21, 22, 23, 24]])"
      ]
     },
     "execution_count": 5,
     "metadata": {},
     "output_type": "execute_result"
    }
   ],
   "source": [
    "a=np.arange(0,25).reshape(5,5)\n",
    "a\n"
   ]
  },
  {
   "cell_type": "code",
   "execution_count": 27,
   "id": "e9c5050e",
   "metadata": {},
   "outputs": [
    {
     "data": {
      "text/plain": [
       "array([1, 2, 3])"
      ]
     },
     "execution_count": 27,
     "metadata": {},
     "output_type": "execute_result"
    }
   ],
   "source": [
    "a[0,1:4]"
   ]
  },
  {
   "cell_type": "code",
   "execution_count": 28,
   "id": "aa775b54",
   "metadata": {},
   "outputs": [
    {
     "data": {
      "text/plain": [
       "1"
      ]
     },
     "execution_count": 28,
     "metadata": {},
     "output_type": "execute_result"
    }
   ],
   "source": [
    "a[0,1]"
   ]
  },
  {
   "cell_type": "code",
   "execution_count": 29,
   "id": "8de6a1bf",
   "metadata": {},
   "outputs": [
    {
     "data": {
      "text/plain": [
       "11"
      ]
     },
     "execution_count": 29,
     "metadata": {},
     "output_type": "execute_result"
    }
   ],
   "source": [
    "a[2,1]"
   ]
  },
  {
   "cell_type": "code",
   "execution_count": 30,
   "id": "d8386ae7",
   "metadata": {},
   "outputs": [
    {
     "data": {
      "text/plain": [
       "18"
      ]
     },
     "execution_count": 30,
     "metadata": {},
     "output_type": "execute_result"
    }
   ],
   "source": [
    "a[3,3]"
   ]
  },
  {
   "cell_type": "code",
   "execution_count": 31,
   "id": "b16e42a3",
   "metadata": {},
   "outputs": [
    {
     "data": {
      "text/plain": [
       "14"
      ]
     },
     "execution_count": 31,
     "metadata": {},
     "output_type": "execute_result"
    }
   ],
   "source": [
    "a[2,4]"
   ]
  },
  {
   "cell_type": "code",
   "execution_count": 32,
   "id": "ea13f244",
   "metadata": {},
   "outputs": [
    {
     "data": {
      "text/plain": [
       "array([ 1,  6, 11])"
      ]
     },
     "execution_count": 32,
     "metadata": {},
     "output_type": "execute_result"
    }
   ],
   "source": [
    "a[0:3,1]"
   ]
  },
  {
   "cell_type": "code",
   "execution_count": 33,
   "id": "75c36f8c",
   "metadata": {},
   "outputs": [
    {
     "data": {
      "text/plain": [
       "array([1, 6])"
      ]
     },
     "execution_count": 33,
     "metadata": {},
     "output_type": "execute_result"
    }
   ],
   "source": [
    "a[0:2,1]"
   ]
  },
  {
   "cell_type": "code",
   "execution_count": 34,
   "id": "89c62347",
   "metadata": {},
   "outputs": [
    {
     "data": {
      "text/plain": [
       "array([[ 1,  2],\n",
       "       [ 6,  7],\n",
       "       [11, 12]])"
      ]
     },
     "execution_count": 34,
     "metadata": {},
     "output_type": "execute_result"
    }
   ],
   "source": [
    "a[0:3,1:3]"
   ]
  },
  {
   "cell_type": "code",
   "execution_count": 37,
   "id": "cc457649",
   "metadata": {},
   "outputs": [
    {
     "data": {
      "text/plain": [
       "array([[13, 14],\n",
       "       [18, 19],\n",
       "       [23, 24]])"
      ]
     },
     "execution_count": 37,
     "metadata": {},
     "output_type": "execute_result"
    }
   ],
   "source": [
    "a[2:,3:]"
   ]
  },
  {
   "cell_type": "code",
   "execution_count": 38,
   "id": "34806a70",
   "metadata": {},
   "outputs": [
    {
     "data": {
      "text/plain": [
       "array([[13, 14],\n",
       "       [18, 19],\n",
       "       [23, 24]])"
      ]
     },
     "execution_count": 38,
     "metadata": {},
     "output_type": "execute_result"
    }
   ],
   "source": [
    "a[2:5,3:5]"
   ]
  },
  {
   "cell_type": "code",
   "execution_count": 41,
   "id": "e2673749",
   "metadata": {},
   "outputs": [
    {
     "data": {
      "text/plain": [
       "array([[ 0,  2,  4],\n",
       "       [10, 12, 14],\n",
       "       [20, 22, 24]])"
      ]
     },
     "execution_count": 41,
     "metadata": {},
     "output_type": "execute_result"
    }
   ],
   "source": [
    "a[::2,::2]"
   ]
  },
  {
   "cell_type": "code",
   "execution_count": 42,
   "id": "71bb6491",
   "metadata": {},
   "outputs": [
    {
     "data": {
      "text/plain": [
       "array([[ 0,  1,  2,  3,  4],\n",
       "       [ 5,  6,  7,  8,  9],\n",
       "       [10, 11, 12, 13, 14],\n",
       "       [15, 16, 17, 18, 19],\n",
       "       [20, 21, 22, 23, 24]])"
      ]
     },
     "execution_count": 42,
     "metadata": {},
     "output_type": "execute_result"
    }
   ],
   "source": [
    "a[::,::]"
   ]
  },
  {
   "cell_type": "code",
   "execution_count": 6,
   "id": "1577a5a0",
   "metadata": {},
   "outputs": [
    {
     "data": {
      "text/plain": [
       "array([[ 0,  1,  2,  3,  4],\n",
       "       [ 5,  6,  7,  8,  9],\n",
       "       [10, 11, 12, 13, 14],\n",
       "       [15, 16, 17, 18, 19],\n",
       "       [20, 21, 22, 23, 24]])"
      ]
     },
     "execution_count": 6,
     "metadata": {},
     "output_type": "execute_result"
    }
   ],
   "source": [
    "import numpy as np\n",
    "a[::-1,::-1]\n",
    "a\n"
   ]
  },
  {
   "cell_type": "code",
   "execution_count": 10,
   "id": "ee7f5008",
   "metadata": {},
   "outputs": [
    {
     "data": {
      "text/plain": [
       "array([[13, 14],\n",
       "       [18, 19],\n",
       "       [23, 24]])"
      ]
     },
     "execution_count": 10,
     "metadata": {},
     "output_type": "execute_result"
    }
   ],
   "source": [
    "a[2:,3:]\n"
   ]
  },
  {
   "cell_type": "code",
   "execution_count": 12,
   "id": "05ea3b36",
   "metadata": {},
   "outputs": [
    {
     "data": {
      "text/plain": [
       "array([[1., 1., 1., 1., 1., 1., 1., 1., 1., 1.],\n",
       "       [1., 1., 1., 1., 1., 1., 1., 1., 1., 1.],\n",
       "       [1., 1., 1., 1., 1., 1., 1., 1., 1., 1.],\n",
       "       [1., 1., 1., 1., 1., 1., 1., 1., 1., 1.],\n",
       "       [1., 1., 1., 1., 1., 1., 1., 1., 1., 1.],\n",
       "       [1., 1., 1., 1., 1., 1., 1., 1., 1., 1.],\n",
       "       [1., 1., 1., 1., 1., 1., 1., 1., 1., 1.],\n",
       "       [1., 1., 1., 1., 1., 1., 1., 1., 1., 1.],\n",
       "       [1., 1., 1., 1., 1., 1., 1., 1., 1., 1.],\n",
       "       [1., 1., 1., 1., 1., 1., 1., 1., 1., 1.]])"
      ]
     },
     "execution_count": 12,
     "metadata": {},
     "output_type": "execute_result"
    }
   ],
   "source": [
    "a1 = np.ones((10,10))\n",
    "a1"
   ]
  },
  {
   "cell_type": "code",
   "execution_count": 15,
   "id": "25bd6976",
   "metadata": {},
   "outputs": [
    {
     "data": {
      "text/plain": [
       "array([[1., 1., 1., 1., 1., 1., 1., 1., 1., 1.],\n",
       "       [1., 0., 0., 0., 0., 0., 0., 0., 0., 1.],\n",
       "       [1., 0., 0., 0., 0., 0., 0., 0., 0., 1.],\n",
       "       [1., 0., 0., 0., 0., 0., 0., 0., 0., 1.],\n",
       "       [1., 0., 0., 0., 0., 0., 0., 0., 0., 1.],\n",
       "       [1., 0., 0., 0., 0., 0., 0., 0., 0., 1.],\n",
       "       [1., 0., 0., 0., 0., 0., 0., 0., 0., 1.],\n",
       "       [1., 0., 0., 0., 0., 0., 0., 0., 0., 1.],\n",
       "       [1., 0., 0., 0., 0., 0., 0., 0., 0., 1.],\n",
       "       [1., 1., 1., 1., 1., 1., 1., 1., 1., 1.]])"
      ]
     },
     "execution_count": 15,
     "metadata": {},
     "output_type": "execute_result"
    }
   ],
   "source": [
    "a1[1:9,1:9] =0\n",
    "a1"
   ]
  },
  {
   "cell_type": "code",
   "execution_count": 16,
   "id": "81da2edc",
   "metadata": {},
   "outputs": [
    {
     "data": {
      "text/plain": [
       "array([[18, 19],\n",
       "       [23, 24]])"
      ]
     },
     "execution_count": 16,
     "metadata": {},
     "output_type": "execute_result"
    }
   ],
   "source": [
    "a[3:5,3:5]"
   ]
  },
  {
   "cell_type": "code",
   "execution_count": 17,
   "id": "8aba2fe7",
   "metadata": {},
   "outputs": [
    {
     "data": {
      "text/plain": [
       "array([[18, 19],\n",
       "       [23, 24]])"
      ]
     },
     "execution_count": 17,
     "metadata": {},
     "output_type": "execute_result"
    }
   ],
   "source": [
    "s = a[3:5,3:5]\n",
    "s"
   ]
  },
  {
   "cell_type": "code",
   "execution_count": 18,
   "id": "a1a581f8",
   "metadata": {},
   "outputs": [
    {
     "data": {
      "text/plain": [
       "array([[18, 19],\n",
       "       [23, 20]])"
      ]
     },
     "execution_count": 18,
     "metadata": {},
     "output_type": "execute_result"
    }
   ],
   "source": [
    "#shallow copy\n",
    "s[1,1] = 20\n",
    "s"
   ]
  },
  {
   "cell_type": "code",
   "execution_count": 26,
   "id": "6dc851c2",
   "metadata": {},
   "outputs": [
    {
     "data": {
      "text/plain": [
       "array([[ 0,  1,  2,  3,  4],\n",
       "       [ 5,  6,  7,  8,  9],\n",
       "       [10, 11, 12, 13, 14],\n",
       "       [15, 16, 17, 18, 16],\n",
       "       [20, 21, 22, 23, 20]])"
      ]
     },
     "execution_count": 26,
     "metadata": {},
     "output_type": "execute_result"
    }
   ],
   "source": [
    "a"
   ]
  },
  {
   "cell_type": "code",
   "execution_count": 20,
   "id": "ecf3b8e4",
   "metadata": {},
   "outputs": [
    {
     "data": {
      "text/plain": [
       "19"
      ]
     },
     "execution_count": 20,
     "metadata": {},
     "output_type": "execute_result"
    }
   ],
   "source": [
    "a[3,4]"
   ]
  },
  {
   "cell_type": "code",
   "execution_count": 23,
   "id": "693b4213",
   "metadata": {},
   "outputs": [
    {
     "data": {
      "text/plain": [
       "16"
      ]
     },
     "execution_count": 23,
     "metadata": {},
     "output_type": "execute_result"
    }
   ],
   "source": [
    "y =a[3,4] = 16\n",
    "y"
   ]
  },
  {
   "cell_type": "code",
   "execution_count": 24,
   "id": "0d107ba8",
   "metadata": {},
   "outputs": [
    {
     "data": {
      "text/plain": [
       "array([[18, 16],\n",
       "       [23, 20]])"
      ]
     },
     "execution_count": 24,
     "metadata": {},
     "output_type": "execute_result"
    }
   ],
   "source": [
    "s"
   ]
  },
  {
   "cell_type": "code",
   "execution_count": 29,
   "id": "ff50e127",
   "metadata": {},
   "outputs": [
    {
     "data": {
      "text/plain": [
       "array([[18, 16],\n",
       "       [23, 20]])"
      ]
     },
     "execution_count": 29,
     "metadata": {},
     "output_type": "execute_result"
    }
   ],
   "source": [
    "#deep copy\n",
    "s[0:2,0:2]\n",
    "s"
   ]
  },
  {
   "cell_type": "code",
   "execution_count": 45,
   "id": "97d0a734",
   "metadata": {},
   "outputs": [
    {
     "ename": "IndexError",
     "evalue": "too many indices for array: array is 1-dimensional, but 2 were indexed",
     "output_type": "error",
     "traceback": [
      "\u001b[1;31m---------------------------------------------------------------------------\u001b[0m",
      "\u001b[1;31mIndexError\u001b[0m                                Traceback (most recent call last)",
      "Input \u001b[1;32mIn [45]\u001b[0m, in \u001b[0;36m<cell line: 1>\u001b[1;34m()\u001b[0m\n\u001b[1;32m----> 1\u001b[0m da \u001b[38;5;241m=\u001b[39m \u001b[43ma\u001b[49m\u001b[43m[\u001b[49m\u001b[43m:\u001b[49m\u001b[38;5;241;43m2\u001b[39;49m\u001b[43m,\u001b[49m\u001b[43m:\u001b[49m\u001b[38;5;241;43m2\u001b[39;49m\u001b[43m]\u001b[49m\u001b[38;5;241m.\u001b[39mcopy\n",
      "\u001b[1;31mIndexError\u001b[0m: too many indices for array: array is 1-dimensional, but 2 were indexed"
     ]
    }
   ],
   "source": [
    "da = a[:2,:2].copy\n"
   ]
  },
  {
   "cell_type": "code",
   "execution_count": 46,
   "id": "d211d04f",
   "metadata": {},
   "outputs": [
    {
     "ename": "NameError",
     "evalue": "name 'da' is not defined",
     "output_type": "error",
     "traceback": [
      "\u001b[1;31m---------------------------------------------------------------------------\u001b[0m",
      "\u001b[1;31mNameError\u001b[0m                                 Traceback (most recent call last)",
      "Input \u001b[1;32mIn [46]\u001b[0m, in \u001b[0;36m<cell line: 1>\u001b[1;34m()\u001b[0m\n\u001b[1;32m----> 1\u001b[0m \u001b[43mda\u001b[49m[\u001b[38;5;241m1\u001b[39m,\u001b[38;5;241m1\u001b[39m] \u001b[38;5;241m=\u001b[39m \u001b[38;5;241m15\u001b[39m\n\u001b[0;32m      2\u001b[0m da\n",
      "\u001b[1;31mNameError\u001b[0m: name 'da' is not defined"
     ]
    }
   ],
   "source": [
    "da[1,1] = 15\n",
    "da"
   ]
  },
  {
   "cell_type": "code",
   "execution_count": 37,
   "id": "5e732d9f",
   "metadata": {},
   "outputs": [
    {
     "data": {
      "text/plain": [
       "array([1, 2, 3])"
      ]
     },
     "execution_count": 37,
     "metadata": {},
     "output_type": "execute_result"
    }
   ],
   "source": [
    "c = np.array([1,2,3])\n",
    "c"
   ]
  },
  {
   "cell_type": "code",
   "execution_count": 39,
   "id": "45db8975",
   "metadata": {},
   "outputs": [
    {
     "data": {
      "text/plain": [
       "[array([[1],\n",
       "        [2],\n",
       "        [3]])]"
      ]
     },
     "execution_count": 39,
     "metadata": {},
     "output_type": "execute_result"
    }
   ],
   "source": [
    "d =[np.array([1,2,3]).reshape(3,1)]\n",
    "d"
   ]
  },
  {
   "cell_type": "code",
   "execution_count": 40,
   "id": "2097b731",
   "metadata": {},
   "outputs": [
    {
     "data": {
      "text/plain": [
       "array([0, 1, 2, 3])"
      ]
     },
     "execution_count": 40,
     "metadata": {},
     "output_type": "execute_result"
    }
   ],
   "source": [
    "e = np.arange(4)\n",
    "e"
   ]
  },
  {
   "cell_type": "code",
   "execution_count": 41,
   "id": "0386a10b",
   "metadata": {},
   "outputs": [
    {
     "data": {
      "text/plain": [
       "array([[0, 1],\n",
       "       [2, 3]])"
      ]
     },
     "execution_count": 41,
     "metadata": {},
     "output_type": "execute_result"
    }
   ],
   "source": [
    "e.reshape(2,2)"
   ]
  },
  {
   "cell_type": "code",
   "execution_count": 42,
   "id": "09cfaa6d",
   "metadata": {},
   "outputs": [
    {
     "data": {
      "text/plain": [
       "array([0, 1, 2, 3, 4, 5, 6, 7, 8])"
      ]
     },
     "execution_count": 42,
     "metadata": {},
     "output_type": "execute_result"
    }
   ],
   "source": [
    "f = np.arange(0,9)\n",
    "f"
   ]
  },
  {
   "cell_type": "code",
   "execution_count": 43,
   "id": "271ee93d",
   "metadata": {},
   "outputs": [
    {
     "data": {
      "text/plain": [
       "array([[0, 1, 2],\n",
       "       [3, 4, 5],\n",
       "       [6, 7, 8]])"
      ]
     },
     "execution_count": 43,
     "metadata": {},
     "output_type": "execute_result"
    }
   ],
   "source": [
    "f.reshape(3,3)"
   ]
  },
  {
   "cell_type": "code",
   "execution_count": 45,
   "id": "ca46a24a",
   "metadata": {},
   "outputs": [
    {
     "data": {
      "text/plain": [
       "array([[0, 1, 2, 3, 4, 5, 6, 7, 8]])"
      ]
     },
     "execution_count": 45,
     "metadata": {},
     "output_type": "execute_result"
    }
   ],
   "source": [
    "f.reshape(1,9)"
   ]
  },
  {
   "cell_type": "code",
   "execution_count": 47,
   "id": "34221818",
   "metadata": {},
   "outputs": [
    {
     "data": {
      "text/plain": [
       "array([[0, 1, 2],\n",
       "       [3, 4, 5],\n",
       "       [6, 7, 8]])"
      ]
     },
     "execution_count": 47,
     "metadata": {},
     "output_type": "execute_result"
    }
   ],
   "source": [
    "f.reshape(3,3)"
   ]
  },
  {
   "cell_type": "code",
   "execution_count": 48,
   "id": "12e0a893",
   "metadata": {},
   "outputs": [],
   "source": [
    "f.ravel?"
   ]
  },
  {
   "cell_type": "code",
   "execution_count": 51,
   "id": "c5dd3c64",
   "metadata": {},
   "outputs": [
    {
     "data": {
      "text/plain": [
       "array([0, 1, 2, 3, 4, 5, 6, 7, 8])"
      ]
     },
     "execution_count": 51,
     "metadata": {},
     "output_type": "execute_result"
    }
   ],
   "source": [
    "np.ravel(f)"
   ]
  },
  {
   "cell_type": "code",
   "execution_count": 54,
   "id": "ab2d1c8c",
   "metadata": {},
   "outputs": [
    {
     "name": "stdout",
     "output_type": "stream",
     "text": [
      "Object `np.flattened` not found.\n"
     ]
    }
   ],
   "source": [
    "np.flattened?"
   ]
  },
  {
   "cell_type": "code",
   "execution_count": 55,
   "id": "6c98b0eb",
   "metadata": {},
   "outputs": [
    {
     "name": "stdout",
     "output_type": "stream",
     "text": [
      "Object `f.flattened` not found.\n"
     ]
    }
   ],
   "source": [
    "f.flattened?"
   ]
  },
  {
   "cell_type": "code",
   "execution_count": 56,
   "id": "707872ae",
   "metadata": {},
   "outputs": [
    {
     "data": {
      "text/plain": [
       "array([0, 1, 2, 3, 4, 5, 6, 7, 8])"
      ]
     },
     "execution_count": 56,
     "metadata": {},
     "output_type": "execute_result"
    }
   ],
   "source": [
    "f.flatten()"
   ]
  },
  {
   "cell_type": "code",
   "execution_count": 58,
   "id": "d4e14a41",
   "metadata": {},
   "outputs": [
    {
     "data": {
      "text/plain": [
       "array([[0],\n",
       "       [1],\n",
       "       [2],\n",
       "       [3],\n",
       "       [4],\n",
       "       [5],\n",
       "       [6],\n",
       "       [7],\n",
       "       [8]])"
      ]
     },
     "execution_count": 58,
     "metadata": {},
     "output_type": "execute_result"
    }
   ],
   "source": [
    "f[:,np.newaxis]"
   ]
  },
  {
   "cell_type": "code",
   "execution_count": 59,
   "id": "ad0b509b",
   "metadata": {},
   "outputs": [],
   "source": [
    "#concattenation or joining of two arrays\n",
    "np.concatenate?"
   ]
  },
  {
   "cell_type": "code",
   "execution_count": 66,
   "id": "c0a1b4c1",
   "metadata": {},
   "outputs": [
    {
     "name": "stdout",
     "output_type": "stream",
     "text": [
      "[[1 2]\n",
      " [3 4]]\n"
     ]
    },
    {
     "data": {
      "text/plain": [
       "array([[5, 6],\n",
       "       [7, 8]])"
      ]
     },
     "execution_count": 66,
     "metadata": {},
     "output_type": "execute_result"
    }
   ],
   "source": [
    "a = np.array([[1, 2], [3, 4]])\n",
    "b = np.array([[5, 6],[7,8]])\n",
    "print(a)\n",
    "b"
   ]
  },
  {
   "cell_type": "code",
   "execution_count": 63,
   "id": "54f4558b",
   "metadata": {},
   "outputs": [
    {
     "data": {
      "text/plain": [
       "array([[1, 2],\n",
       "       [3, 4],\n",
       "       [5, 6]])"
      ]
     },
     "execution_count": 63,
     "metadata": {},
     "output_type": "execute_result"
    }
   ],
   "source": [
    "np.concatenate((a,b),axis = 0)"
   ]
  },
  {
   "cell_type": "code",
   "execution_count": 67,
   "id": "136e6277",
   "metadata": {},
   "outputs": [
    {
     "data": {
      "text/plain": [
       "array([[1, 2, 5, 6],\n",
       "       [3, 4, 7, 8]])"
      ]
     },
     "execution_count": 67,
     "metadata": {},
     "output_type": "execute_result"
    }
   ],
   "source": [
    "np.concatenate([a,b],axis = 1) # to specify rows and columns row = 0 and columns = 1"
   ]
  },
  {
   "cell_type": "code",
   "execution_count": 1,
   "id": "03bc22c8",
   "metadata": {},
   "outputs": [],
   "source": [
    "import numpy as np\n"
   ]
  },
  {
   "cell_type": "code",
   "execution_count": 4,
   "id": "55bdad0c",
   "metadata": {},
   "outputs": [
    {
     "data": {
      "text/plain": [
       "array([0., 0., 0., 0., 0., 0., 0., 0., 0., 0.])"
      ]
     },
     "execution_count": 4,
     "metadata": {},
     "output_type": "execute_result"
    }
   ],
   "source": [
    "a = np.zeros(10)\n",
    "a"
   ]
  },
  {
   "cell_type": "code",
   "execution_count": 5,
   "id": "0f38c7b8",
   "metadata": {},
   "outputs": [
    {
     "data": {
      "text/plain": [
       "array([1., 1., 1., 1., 1., 1., 1., 1., 1., 1.])"
      ]
     },
     "execution_count": 5,
     "metadata": {},
     "output_type": "execute_result"
    }
   ],
   "source": [
    "b = np.ones(10)\n",
    "b"
   ]
  },
  {
   "cell_type": "code",
   "execution_count": 6,
   "id": "b6db34af",
   "metadata": {},
   "outputs": [
    {
     "data": {
      "text/plain": [
       "array([1., 1., 1., 1., 1., 1., 1., 1., 1., 1.])"
      ]
     },
     "execution_count": 6,
     "metadata": {},
     "output_type": "execute_result"
    }
   ],
   "source": [
    "c = np.ones(10)\n",
    "c"
   ]
  },
  {
   "cell_type": "code",
   "execution_count": 8,
   "id": "17616958",
   "metadata": {},
   "outputs": [
    {
     "data": {
      "text/plain": [
       "array([10, 11, 12, 13, 14, 15, 16, 17, 18, 19, 20, 21, 22, 23, 24, 25, 26,\n",
       "       27, 28, 29, 30, 31, 32, 33, 34, 35, 36, 37, 38, 39, 40, 41, 42, 43,\n",
       "       44, 45, 46, 47, 48, 49])"
      ]
     },
     "execution_count": 8,
     "metadata": {},
     "output_type": "execute_result"
    }
   ],
   "source": [
    "d = np.arange(10,50)\n",
    "d"
   ]
  },
  {
   "cell_type": "code",
   "execution_count": 9,
   "id": "1cc2ab9e",
   "metadata": {},
   "outputs": [
    {
     "data": {
      "text/plain": [
       "array([10, 12, 14, 16, 18, 20, 22, 24, 26, 28, 30, 32, 34, 36, 38, 40, 42,\n",
       "       44, 46, 48])"
      ]
     },
     "execution_count": 9,
     "metadata": {},
     "output_type": "execute_result"
    }
   ],
   "source": [
    "e = np.arange(10,50,2)\n",
    "e"
   ]
  },
  {
   "cell_type": "code",
   "execution_count": 13,
   "id": "afb4a4e1",
   "metadata": {},
   "outputs": [
    {
     "data": {
      "text/plain": [
       "array([[0, 1, 2],\n",
       "       [3, 4, 5],\n",
       "       [6, 7, 8]])"
      ]
     },
     "execution_count": 13,
     "metadata": {},
     "output_type": "execute_result"
    }
   ],
   "source": [
    "f = np.arange(0,9).reshape(3,3)\n",
    "f"
   ]
  },
  {
   "cell_type": "code",
   "execution_count": 14,
   "id": "5fd0af59",
   "metadata": {},
   "outputs": [
    {
     "data": {
      "text/plain": [
       "array([[1., 0., 0.],\n",
       "       [0., 1., 0.],\n",
       "       [0., 0., 1.]])"
      ]
     },
     "execution_count": 14,
     "metadata": {},
     "output_type": "execute_result"
    }
   ],
   "source": [
    "g = np.eye(3)\n",
    "g"
   ]
  },
  {
   "cell_type": "code",
   "execution_count": 15,
   "id": "966052e0",
   "metadata": {},
   "outputs": [
    {
     "data": {
      "text/plain": [
       "array([0.01960607])"
      ]
     },
     "execution_count": 15,
     "metadata": {},
     "output_type": "execute_result"
    }
   ],
   "source": [
    "h = np.random.random(1)\n",
    "h"
   ]
  },
  {
   "cell_type": "code",
   "execution_count": 16,
   "id": "1edf784c",
   "metadata": {},
   "outputs": [
    {
     "data": {
      "text/plain": [
       "array([ 5.69206894e+01, -4.68548740e+01,  3.03868960e+01,  3.96688366e+01,\n",
       "       -1.67461176e+01, -3.83278678e+01,  5.26559273e+01, -5.28276403e+00,\n",
       "       -2.01407154e+01,  1.19961950e+01,  1.60373331e+01,  3.00365317e+01,\n",
       "       -2.57200426e+01, -3.39872810e+01,  8.73428880e-04,  2.73850796e+00,\n",
       "       -9.43681908e+00, -7.64519186e+01,  2.02848194e+01,  1.25979632e+01,\n",
       "        2.42833614e+01, -1.78683550e+01,  3.15323549e+01, -1.61895975e+00,\n",
       "       -3.00529498e+01])"
      ]
     },
     "execution_count": 16,
     "metadata": {},
     "output_type": "execute_result"
    }
   ],
   "source": [
    "j = np.random.normal(0,30,25)\n",
    "j"
   ]
  },
  {
   "cell_type": "code",
   "execution_count": 20,
   "id": "567cd9cd",
   "metadata": {},
   "outputs": [
    {
     "data": {
      "text/plain": [
       "array([[0.01, 0.02, 0.03, 0.04, 0.05, 0.06, 0.07, 0.08, 0.09, 0.1 ],\n",
       "       [0.11, 0.12, 0.13, 0.14, 0.15, 0.16, 0.17, 0.18, 0.19, 0.2 ],\n",
       "       [0.21, 0.22, 0.23, 0.24, 0.25, 0.26, 0.27, 0.28, 0.29, 0.3 ],\n",
       "       [0.31, 0.32, 0.33, 0.34, 0.35, 0.36, 0.37, 0.38, 0.39, 0.4 ],\n",
       "       [0.41, 0.42, 0.43, 0.44, 0.45, 0.46, 0.47, 0.48, 0.49, 0.5 ],\n",
       "       [0.51, 0.52, 0.53, 0.54, 0.55, 0.56, 0.57, 0.58, 0.59, 0.6 ],\n",
       "       [0.61, 0.62, 0.63, 0.64, 0.65, 0.66, 0.67, 0.68, 0.69, 0.7 ],\n",
       "       [0.71, 0.72, 0.73, 0.74, 0.75, 0.76, 0.77, 0.78, 0.79, 0.8 ],\n",
       "       [0.81, 0.82, 0.83, 0.84, 0.85, 0.86, 0.87, 0.88, 0.89, 0.9 ],\n",
       "       [0.91, 0.92, 0.93, 0.94, 0.95, 0.96, 0.97, 0.98, 0.99, 1.  ]])"
      ]
     },
     "execution_count": 20,
     "metadata": {},
     "output_type": "execute_result"
    }
   ],
   "source": [
    "k = np.linspace(0.01,1,100).reshape(10,10)\n",
    "k"
   ]
  },
  {
   "cell_type": "code",
   "execution_count": 22,
   "id": "962d96e7",
   "metadata": {},
   "outputs": [
    {
     "data": {
      "text/plain": [
       "array([0.        , 0.05263158, 0.10526316, 0.15789474, 0.21052632,\n",
       "       0.26315789, 0.31578947, 0.36842105, 0.42105263, 0.47368421,\n",
       "       0.52631579, 0.57894737, 0.63157895, 0.68421053, 0.73684211,\n",
       "       0.78947368, 0.84210526, 0.89473684, 0.94736842, 1.        ])"
      ]
     },
     "execution_count": 22,
     "metadata": {},
     "output_type": "execute_result"
    }
   ],
   "source": [
    "l = np.linspace(0,1,20)\n",
    "l"
   ]
  },
  {
   "cell_type": "code",
   "execution_count": 35,
   "id": "853b48dd",
   "metadata": {},
   "outputs": [
    {
     "data": {
      "text/plain": [
       "array([[ 1,  2,  3,  4,  5],\n",
       "       [ 6,  7,  8,  9, 10],\n",
       "       [11, 12, 13, 14, 15],\n",
       "       [16, 17, 18, 19, 20],\n",
       "       [21, 22, 23, 24, 25]])"
      ]
     },
     "execution_count": 35,
     "metadata": {},
     "output_type": "execute_result"
    }
   ],
   "source": [
    "m = np.arange(1,26).reshape(5,5)\n",
    "m"
   ]
  },
  {
   "cell_type": "code",
   "execution_count": 36,
   "id": "0c9ba74e",
   "metadata": {},
   "outputs": [
    {
     "data": {
      "text/plain": [
       "array([[12, 13, 14, 15],\n",
       "       [17, 18, 19, 20],\n",
       "       [22, 23, 24, 25]])"
      ]
     },
     "execution_count": 36,
     "metadata": {},
     "output_type": "execute_result"
    }
   ],
   "source": [
    "m[2:5,1:5]\n"
   ]
  },
  {
   "cell_type": "code",
   "execution_count": 38,
   "id": "6f80cfb6",
   "metadata": {},
   "outputs": [
    {
     "data": {
      "text/plain": [
       "20"
      ]
     },
     "execution_count": 38,
     "metadata": {},
     "output_type": "execute_result"
    }
   ],
   "source": [
    "m[3,4]"
   ]
  },
  {
   "cell_type": "code",
   "execution_count": 39,
   "id": "e79adc74",
   "metadata": {},
   "outputs": [
    {
     "data": {
      "text/plain": [
       "array([21, 22, 23, 24, 25])"
      ]
     },
     "execution_count": 39,
     "metadata": {},
     "output_type": "execute_result"
    }
   ],
   "source": [
    "m[4,0:5]"
   ]
  },
  {
   "cell_type": "code",
   "execution_count": 40,
   "id": "dae7305c",
   "metadata": {},
   "outputs": [
    {
     "data": {
      "text/plain": [
       "array([16, 17, 18, 19, 20])"
      ]
     },
     "execution_count": 40,
     "metadata": {},
     "output_type": "execute_result"
    }
   ],
   "source": [
    "m[3,0:5]"
   ]
  },
  {
   "cell_type": "code",
   "execution_count": 43,
   "id": "95964228",
   "metadata": {},
   "outputs": [
    {
     "name": "stdout",
     "output_type": "stream",
     "text": [
      "325\n"
     ]
    }
   ],
   "source": [
    "total_sum = np.sum(m)\n",
    "print(total_sum)"
   ]
  },
  {
   "cell_type": "code",
   "execution_count": 44,
   "id": "0e604f5a",
   "metadata": {},
   "outputs": [
    {
     "name": "stdout",
     "output_type": "stream",
     "text": [
      "[55 60 65 70 75]\n"
     ]
    }
   ],
   "source": [
    "total_sum = np.sum(m,axis = 0)\n",
    "print(total_sum)"
   ]
  },
  {
   "cell_type": "code",
   "execution_count": 46,
   "id": "8ecf9026",
   "metadata": {},
   "outputs": [
    {
     "name": "stdout",
     "output_type": "stream",
     "text": [
      "7.211102550927978\n"
     ]
    }
   ],
   "source": [
    "l = np.std(m)\n",
    "print(l)"
   ]
  },
  {
   "cell_type": "code",
   "execution_count": 47,
   "id": "82fa555c",
   "metadata": {},
   "outputs": [
    {
     "name": "stdout",
     "output_type": "stream",
     "text": [
      "1\n"
     ]
    }
   ],
   "source": [
    "m = np.min(m)\n",
    "print(m)"
   ]
  },
  {
   "cell_type": "code",
   "execution_count": 48,
   "id": "e8ba6082",
   "metadata": {},
   "outputs": [
    {
     "name": "stdout",
     "output_type": "stream",
     "text": [
      "1\n"
     ]
    }
   ],
   "source": [
    "j = np.max(m)\n",
    "print(j)"
   ]
  },
  {
   "cell_type": "code",
   "execution_count": 53,
   "id": "70686c82",
   "metadata": {},
   "outputs": [
    {
     "data": {
      "text/plain": [
       "0.0"
      ]
     },
     "execution_count": 53,
     "metadata": {},
     "output_type": "execute_result"
    }
   ],
   "source": [
    "np.var(m)"
   ]
  },
  {
   "cell_type": "code",
   "execution_count": 54,
   "id": "fcb079fd",
   "metadata": {},
   "outputs": [],
   "source": [
    "#\n",
    "np.vstack?"
   ]
  },
  {
   "cell_type": "code",
   "execution_count": 55,
   "id": "1b084a48",
   "metadata": {},
   "outputs": [
    {
     "ename": "TypeError",
     "evalue": "Field elements must be 2- or 3-tuples, got '6'",
     "output_type": "error",
     "traceback": [
      "\u001b[1;31m---------------------------------------------------------------------------\u001b[0m",
      "\u001b[1;31mTypeError\u001b[0m                                 Traceback (most recent call last)",
      "Input \u001b[1;32mIn [55]\u001b[0m, in \u001b[0;36m<cell line: 2>\u001b[1;34m()\u001b[0m\n\u001b[0;32m      1\u001b[0m x \u001b[38;5;241m=\u001b[39m np\u001b[38;5;241m.\u001b[39marray([\u001b[38;5;241m1\u001b[39m,\u001b[38;5;241m2\u001b[39m,\u001b[38;5;241m3\u001b[39m])\n\u001b[1;32m----> 2\u001b[0m grid \u001b[38;5;241m=\u001b[39m \u001b[43mnp\u001b[49m\u001b[38;5;241;43m.\u001b[39;49m\u001b[43marray\u001b[49m\u001b[43m(\u001b[49m\u001b[43m[\u001b[49m\u001b[38;5;241;43m9\u001b[39;49m\u001b[43m,\u001b[49m\u001b[38;5;241;43m8\u001b[39;49m\u001b[43m,\u001b[49m\u001b[38;5;241;43m7\u001b[39;49m\u001b[43m]\u001b[49m\u001b[43m,\u001b[49m\n\u001b[0;32m      3\u001b[0m \u001b[43m               \u001b[49m\u001b[43m[\u001b[49m\u001b[38;5;241;43m6\u001b[39;49m\u001b[43m,\u001b[49m\u001b[38;5;241;43m5\u001b[39;49m\u001b[43m,\u001b[49m\u001b[38;5;241;43m4\u001b[39;49m\u001b[43m]\u001b[49m\u001b[43m)\u001b[49m\n",
      "\u001b[1;31mTypeError\u001b[0m: Field elements must be 2- or 3-tuples, got '6'"
     ]
    }
   ],
   "source": []
  },
  {
   "cell_type": "code",
   "execution_count": 58,
   "id": "1e45e46d",
   "metadata": {},
   "outputs": [
    {
     "data": {
      "text/plain": [
       "array([[1, 3],\n",
       "       [4, 5]])"
      ]
     },
     "execution_count": 58,
     "metadata": {},
     "output_type": "execute_result"
    }
   ],
   "source": [
    "ar = np.array([[1,3],\n",
    "             [4,5]])\n",
    "ar"
   ]
  },
  {
   "cell_type": "code",
   "execution_count": 59,
   "id": "f3f385e8",
   "metadata": {},
   "outputs": [
    {
     "data": {
      "text/plain": [
       "array([1, 2, 3, 4])"
      ]
     },
     "execution_count": 59,
     "metadata": {},
     "output_type": "execute_result"
    }
   ],
   "source": [
    "np.hstack((x,[4]))"
   ]
  },
  {
   "cell_type": "code",
   "execution_count": 61,
   "id": "c7522e10",
   "metadata": {},
   "outputs": [
    {
     "ename": "NameError",
     "evalue": "name 'grid' is not defined",
     "output_type": "error",
     "traceback": [
      "\u001b[1;31m---------------------------------------------------------------------------\u001b[0m",
      "\u001b[1;31mNameError\u001b[0m                                 Traceback (most recent call last)",
      "Input \u001b[1;32mIn [61]\u001b[0m, in \u001b[0;36m<cell line: 1>\u001b[1;34m()\u001b[0m\n\u001b[1;32m----> 1\u001b[0m np\u001b[38;5;241m.\u001b[39mvstack([ar,\u001b[43mgrid\u001b[49m])\n",
      "\u001b[1;31mNameError\u001b[0m: name 'grid' is not defined"
     ]
    }
   ],
   "source": [
    "np.vstack([ar,grid])"
   ]
  },
  {
   "cell_type": "code",
   "execution_count": 62,
   "id": "71bc1f1c",
   "metadata": {},
   "outputs": [
    {
     "ename": "ValueError",
     "evalue": "all the input arrays must have same number of dimensions, but the array at index 0 has 2 dimension(s) and the array at index 1 has 1 dimension(s)",
     "output_type": "error",
     "traceback": [
      "\u001b[1;31m---------------------------------------------------------------------------\u001b[0m",
      "\u001b[1;31mValueError\u001b[0m                                Traceback (most recent call last)",
      "Input \u001b[1;32mIn [62]\u001b[0m, in \u001b[0;36m<cell line: 1>\u001b[1;34m()\u001b[0m\n\u001b[1;32m----> 1\u001b[0m \u001b[43mnp\u001b[49m\u001b[38;5;241;43m.\u001b[39;49m\u001b[43mhstack\u001b[49m\u001b[43m(\u001b[49m\u001b[43m(\u001b[49m\u001b[43mar\u001b[49m\u001b[43m,\u001b[49m\u001b[43m[\u001b[49m\u001b[38;5;241;43m4\u001b[39;49m\u001b[43m]\u001b[49m\u001b[43m)\u001b[49m\u001b[43m)\u001b[49m\n",
      "File \u001b[1;32m<__array_function__ internals>:5\u001b[0m, in \u001b[0;36mhstack\u001b[1;34m(*args, **kwargs)\u001b[0m\n",
      "File \u001b[1;32mD:\\anaconda3\\lib\\site-packages\\numpy\\core\\shape_base.py:345\u001b[0m, in \u001b[0;36mhstack\u001b[1;34m(tup)\u001b[0m\n\u001b[0;32m    343\u001b[0m     \u001b[38;5;28;01mreturn\u001b[39;00m _nx\u001b[38;5;241m.\u001b[39mconcatenate(arrs, \u001b[38;5;241m0\u001b[39m)\n\u001b[0;32m    344\u001b[0m \u001b[38;5;28;01melse\u001b[39;00m:\n\u001b[1;32m--> 345\u001b[0m     \u001b[38;5;28;01mreturn\u001b[39;00m \u001b[43m_nx\u001b[49m\u001b[38;5;241;43m.\u001b[39;49m\u001b[43mconcatenate\u001b[49m\u001b[43m(\u001b[49m\u001b[43marrs\u001b[49m\u001b[43m,\u001b[49m\u001b[43m \u001b[49m\u001b[38;5;241;43m1\u001b[39;49m\u001b[43m)\u001b[49m\n",
      "File \u001b[1;32m<__array_function__ internals>:5\u001b[0m, in \u001b[0;36mconcatenate\u001b[1;34m(*args, **kwargs)\u001b[0m\n",
      "\u001b[1;31mValueError\u001b[0m: all the input arrays must have same number of dimensions, but the array at index 0 has 2 dimension(s) and the array at index 1 has 1 dimension(s)"
     ]
    }
   ],
   "source": [
    "np.hstack((ar,[4]))"
   ]
  },
  {
   "cell_type": "code",
   "execution_count": 63,
   "id": "a8f36dfc",
   "metadata": {},
   "outputs": [],
   "source": [
    "x = np.array([1,2,3])\n",
    "grid = np.array([[9,8,7],\n",
    "                [6,5,4]])"
   ]
  },
  {
   "cell_type": "code",
   "execution_count": 65,
   "id": "dd700f7c",
   "metadata": {},
   "outputs": [
    {
     "data": {
      "text/plain": [
       "array([[1, 2, 3],\n",
       "       [9, 8, 7],\n",
       "       [6, 5, 4]])"
      ]
     },
     "execution_count": 65,
     "metadata": {},
     "output_type": "execute_result"
    }
   ],
   "source": [
    "np.vstack([x,grid])"
   ]
  },
  {
   "cell_type": "code",
   "execution_count": 66,
   "id": "94848e2e",
   "metadata": {},
   "outputs": [
    {
     "data": {
      "text/plain": [
       "array([1, 2, 3, 4])"
      ]
     },
     "execution_count": 66,
     "metadata": {},
     "output_type": "execute_result"
    }
   ],
   "source": [
    "np.hstack((x,[4]))"
   ]
  },
  {
   "cell_type": "code",
   "execution_count": 71,
   "id": "20138e7e",
   "metadata": {},
   "outputs": [
    {
     "data": {
      "text/plain": [
       "array([[1, 2, 3],\n",
       "       [4, 5, 6]])"
      ]
     },
     "execution_count": 71,
     "metadata": {},
     "output_type": "execute_result"
    }
   ],
   "source": [
    "ar = np.array([[1,2,3],\n",
    "              [4,5,6]])\n",
    "ar"
   ]
  },
  {
   "cell_type": "code",
   "execution_count": 72,
   "id": "9f51c081",
   "metadata": {},
   "outputs": [
    {
     "data": {
      "text/plain": [
       "array([[1, 2, 3],\n",
       "       [4, 5, 6],\n",
       "       [9, 8, 7],\n",
       "       [6, 5, 4]])"
      ]
     },
     "execution_count": 72,
     "metadata": {},
     "output_type": "execute_result"
    }
   ],
   "source": [
    "np.vstack([ar,grid])"
   ]
  },
  {
   "cell_type": "code",
   "execution_count": 82,
   "id": "412b45b6",
   "metadata": {},
   "outputs": [],
   "source": [
    "np.split?\n",
    "\n"
   ]
  },
  {
   "cell_type": "code",
   "execution_count": 83,
   "id": "6c3cb865",
   "metadata": {},
   "outputs": [],
   "source": [
    "np.vsplit?\n"
   ]
  },
  {
   "cell_type": "code",
   "execution_count": 84,
   "id": "0f268a8f",
   "metadata": {},
   "outputs": [],
   "source": [
    "np.hsplit?"
   ]
  },
  {
   "cell_type": "code",
   "execution_count": 85,
   "id": "2c2995f0",
   "metadata": {},
   "outputs": [
    {
     "data": {
      "text/plain": [
       "array([1, 2, 3, 4, 5])"
      ]
     },
     "execution_count": 85,
     "metadata": {},
     "output_type": "execute_result"
    }
   ],
   "source": [
    "a = np.array([1,2,3,4,5])\n",
    "a"
   ]
  },
  {
   "cell_type": "code",
   "execution_count": 86,
   "id": "92fb629c",
   "metadata": {},
   "outputs": [
    {
     "data": {
      "text/plain": [
       "[array([1]), array([2]), array([3]), array([4]), array([5])]"
      ]
     },
     "execution_count": 86,
     "metadata": {},
     "output_type": "execute_result"
    }
   ],
   "source": [
    "np.split(a,5)"
   ]
  },
  {
   "cell_type": "markdown",
   "id": "c4b0aa88",
   "metadata": {},
   "source": [
    "### np.split(a,2)"
   ]
  },
  {
   "cell_type": "code",
   "execution_count": 89,
   "id": "c028e8af",
   "metadata": {},
   "outputs": [
    {
     "data": {
      "text/plain": [
       "[array([1, 2]), array([3]), array([4, 5])]"
      ]
     },
     "execution_count": 89,
     "metadata": {},
     "output_type": "execute_result"
    }
   ],
   "source": [
    "np.split(a,[2,3])"
   ]
  },
  {
   "cell_type": "code",
   "execution_count": 90,
   "id": "73f110fd",
   "metadata": {},
   "outputs": [
    {
     "data": {
      "text/plain": [
       "[array([1]), array([2, 3, 4]), array([5])]"
      ]
     },
     "execution_count": 90,
     "metadata": {},
     "output_type": "execute_result"
    }
   ],
   "source": [
    "np.split(a,[1,4])"
   ]
  },
  {
   "cell_type": "code",
   "execution_count": 91,
   "id": "25262f7a",
   "metadata": {},
   "outputs": [
    {
     "data": {
      "text/plain": [
       "[array([1]), array([2]), array([3, 4, 5]), array([], dtype=int32)]"
      ]
     },
     "execution_count": 91,
     "metadata": {},
     "output_type": "execute_result"
    }
   ],
   "source": [
    "np.split(a,[1,2,34])"
   ]
  },
  {
   "cell_type": "code",
   "execution_count": 92,
   "id": "f7914ffd",
   "metadata": {},
   "outputs": [
    {
     "data": {
      "text/plain": [
       "array([[ 0,  1,  2,  3,  4],\n",
       "       [ 5,  6,  7,  8,  9],\n",
       "       [10, 11, 12, 13, 14],\n",
       "       [15, 16, 17, 18, 19],\n",
       "       [20, 21, 22, 23, 24]])"
      ]
     },
     "execution_count": 92,
     "metadata": {},
     "output_type": "execute_result"
    }
   ],
   "source": [
    "a2 = np.arange(0,25).reshape(5,5)\n",
    "a2"
   ]
  },
  {
   "cell_type": "code",
   "execution_count": 94,
   "id": "66257c06",
   "metadata": {},
   "outputs": [
    {
     "data": {
      "text/plain": [
       "[array([[ 0,  1],\n",
       "        [ 5,  6],\n",
       "        [10, 11],\n",
       "        [15, 16],\n",
       "        [20, 21]]),\n",
       " array([[ 2],\n",
       "        [ 7],\n",
       "        [12],\n",
       "        [17],\n",
       "        [22]]),\n",
       " array([[ 3,  4],\n",
       "        [ 8,  9],\n",
       "        [13, 14],\n",
       "        [18, 19],\n",
       "        [23, 24]])]"
      ]
     },
     "execution_count": 94,
     "metadata": {},
     "output_type": "execute_result"
    }
   ],
   "source": [
    "np.hsplit(a2,[2,3])"
   ]
  },
  {
   "cell_type": "code",
   "execution_count": 96,
   "id": "b5a9c85c",
   "metadata": {},
   "outputs": [
    {
     "data": {
      "text/plain": [
       "[array([[0, 1, 2, 3, 4]]),\n",
       " array([[5, 6, 7, 8, 9]]),\n",
       " array([[10, 11, 12, 13, 14]]),\n",
       " array([[15, 16, 17, 18, 19]]),\n",
       " array([[20, 21, 22, 23, 24]])]"
      ]
     },
     "execution_count": 96,
     "metadata": {},
     "output_type": "execute_result"
    }
   ],
   "source": [
    "np.vsplit(a2,5)"
   ]
  },
  {
   "cell_type": "code",
   "execution_count": 97,
   "id": "c47cdce9",
   "metadata": {},
   "outputs": [
    {
     "data": {
      "text/plain": [
       "5"
      ]
     },
     "execution_count": 97,
     "metadata": {},
     "output_type": "execute_result"
    }
   ],
   "source": [
    "np.abs(-5)"
   ]
  },
  {
   "cell_type": "code",
   "execution_count": null,
   "id": "fa57e087",
   "metadata": {},
   "outputs": [],
   "source": [
    "#concatenate\n",
    "#hstack\n",
    "#split\n",
    "#hsplit\n",
    "#vplit\n",
    "#aggregation\n"
   ]
  },
  {
   "cell_type": "code",
   "execution_count": 98,
   "id": "15b121ad",
   "metadata": {},
   "outputs": [
    {
     "data": {
      "text/plain": [
       "array([1, 2, 3, 4, 5])"
      ]
     },
     "execution_count": 98,
     "metadata": {},
     "output_type": "execute_result"
    }
   ],
   "source": [
    "a"
   ]
  },
  {
   "cell_type": "code",
   "execution_count": 99,
   "id": "aa1c7395",
   "metadata": {},
   "outputs": [
    {
     "data": {
      "text/plain": [
       "15"
      ]
     },
     "execution_count": 99,
     "metadata": {},
     "output_type": "execute_result"
    }
   ],
   "source": [
    "np.sum(a)"
   ]
  },
  {
   "cell_type": "code",
   "execution_count": 100,
   "id": "e22b343c",
   "metadata": {},
   "outputs": [
    {
     "data": {
      "text/plain": [
       "array([[1, 2, 3],\n",
       "       [4, 5, 6]])"
      ]
     },
     "execution_count": 100,
     "metadata": {},
     "output_type": "execute_result"
    }
   ],
   "source": [
    "ar"
   ]
  },
  {
   "cell_type": "code",
   "execution_count": 101,
   "id": "d4e4af97",
   "metadata": {},
   "outputs": [
    {
     "data": {
      "text/plain": [
       "21"
      ]
     },
     "execution_count": 101,
     "metadata": {},
     "output_type": "execute_result"
    }
   ],
   "source": [
    "np.sum(ar)"
   ]
  },
  {
   "cell_type": "code",
   "execution_count": 102,
   "id": "45356214",
   "metadata": {},
   "outputs": [
    {
     "data": {
      "text/plain": [
       "array([ 6, 15])"
      ]
     },
     "execution_count": 102,
     "metadata": {},
     "output_type": "execute_result"
    }
   ],
   "source": [
    "np.sum(ar,axis = 1)"
   ]
  },
  {
   "cell_type": "code",
   "execution_count": 103,
   "id": "e741b374",
   "metadata": {},
   "outputs": [
    {
     "data": {
      "text/plain": [
       "array([5, 7, 9])"
      ]
     },
     "execution_count": 103,
     "metadata": {},
     "output_type": "execute_result"
    }
   ],
   "source": [
    "np.sum(ar,axis = 0)"
   ]
  },
  {
   "cell_type": "code",
   "execution_count": 104,
   "id": "a0bf3d68",
   "metadata": {},
   "outputs": [
    {
     "data": {
      "text/plain": [
       "1"
      ]
     },
     "execution_count": 104,
     "metadata": {},
     "output_type": "execute_result"
    }
   ],
   "source": [
    "np.min(a)"
   ]
  },
  {
   "cell_type": "code",
   "execution_count": 105,
   "id": "6e339035",
   "metadata": {},
   "outputs": [
    {
     "data": {
      "text/plain": [
       "5"
      ]
     },
     "execution_count": 105,
     "metadata": {},
     "output_type": "execute_result"
    }
   ],
   "source": [
    "np.max(a)"
   ]
  },
  {
   "cell_type": "code",
   "execution_count": 106,
   "id": "32ea257c",
   "metadata": {},
   "outputs": [
    {
     "data": {
      "text/plain": [
       "1"
      ]
     },
     "execution_count": 106,
     "metadata": {},
     "output_type": "execute_result"
    }
   ],
   "source": [
    "np.min(ar)"
   ]
  },
  {
   "cell_type": "code",
   "execution_count": 107,
   "id": "fe881a74",
   "metadata": {},
   "outputs": [
    {
     "data": {
      "text/plain": [
       "6"
      ]
     },
     "execution_count": 107,
     "metadata": {},
     "output_type": "execute_result"
    }
   ],
   "source": [
    "np.max(ar)"
   ]
  },
  {
   "cell_type": "code",
   "execution_count": 108,
   "id": "4b7a61ab",
   "metadata": {},
   "outputs": [
    {
     "data": {
      "text/plain": [
       "array([1, 2, 3])"
      ]
     },
     "execution_count": 108,
     "metadata": {},
     "output_type": "execute_result"
    }
   ],
   "source": [
    "np.min(ar,axis = 0)"
   ]
  },
  {
   "cell_type": "code",
   "execution_count": 109,
   "id": "489a870c",
   "metadata": {},
   "outputs": [
    {
     "data": {
      "text/plain": [
       "array([3, 6])"
      ]
     },
     "execution_count": 109,
     "metadata": {},
     "output_type": "execute_result"
    }
   ],
   "source": [
    "np.max(ar,axis = 1)"
   ]
  },
  {
   "cell_type": "code",
   "execution_count": 110,
   "id": "57a23afc",
   "metadata": {},
   "outputs": [
    {
     "data": {
      "text/plain": [
       "0"
      ]
     },
     "execution_count": 110,
     "metadata": {},
     "output_type": "execute_result"
    }
   ],
   "source": [
    "np.argmin(a)  #index of min \n"
   ]
  },
  {
   "cell_type": "code",
   "execution_count": 111,
   "id": "9a2b94e6",
   "metadata": {},
   "outputs": [
    {
     "data": {
      "text/plain": [
       "0"
      ]
     },
     "execution_count": 111,
     "metadata": {},
     "output_type": "execute_result"
    }
   ],
   "source": [
    "np.argmin(ar)"
   ]
  },
  {
   "cell_type": "code",
   "execution_count": 112,
   "id": "ff4fe1d3",
   "metadata": {},
   "outputs": [
    {
     "data": {
      "text/plain": [
       "4"
      ]
     },
     "execution_count": 112,
     "metadata": {},
     "output_type": "execute_result"
    }
   ],
   "source": [
    "np.argmax(a)"
   ]
  },
  {
   "cell_type": "code",
   "execution_count": 114,
   "id": "83483313",
   "metadata": {},
   "outputs": [
    {
     "data": {
      "text/plain": [
       "5"
      ]
     },
     "execution_count": 114,
     "metadata": {},
     "output_type": "execute_result"
    }
   ],
   "source": [
    "a = -5\n",
    "np.absolute(a)"
   ]
  },
  {
   "cell_type": "code",
   "execution_count": 115,
   "id": "f187d75f",
   "metadata": {},
   "outputs": [
    {
     "data": {
      "text/plain": [
       "0.0"
      ]
     },
     "execution_count": 115,
     "metadata": {},
     "output_type": "execute_result"
    }
   ],
   "source": [
    "np.std(a)"
   ]
  },
  {
   "cell_type": "code",
   "execution_count": 116,
   "id": "1f0667bf",
   "metadata": {},
   "outputs": [
    {
     "data": {
      "text/plain": [
       "2.9166666666666665"
      ]
     },
     "execution_count": 116,
     "metadata": {},
     "output_type": "execute_result"
    }
   ],
   "source": [
    "np.var(ar)"
   ]
  },
  {
   "cell_type": "code",
   "execution_count": 117,
   "id": "f6cafc3e",
   "metadata": {},
   "outputs": [
    {
     "data": {
      "text/plain": [
       "1.707825127659933"
      ]
     },
     "execution_count": 117,
     "metadata": {},
     "output_type": "execute_result"
    }
   ],
   "source": [
    "np.std(ar)"
   ]
  },
  {
   "cell_type": "code",
   "execution_count": 118,
   "id": "f75b34ad",
   "metadata": {},
   "outputs": [
    {
     "data": {
      "text/plain": [
       "-5.0"
      ]
     },
     "execution_count": 118,
     "metadata": {},
     "output_type": "execute_result"
    }
   ],
   "source": [
    "np.median(a)"
   ]
  },
  {
   "cell_type": "code",
   "execution_count": 119,
   "id": "8e1e5afa",
   "metadata": {},
   "outputs": [
    {
     "data": {
      "text/plain": [
       "-5"
      ]
     },
     "execution_count": 119,
     "metadata": {},
     "output_type": "execute_result"
    }
   ],
   "source": [
    "np.prod(a)"
   ]
  },
  {
   "cell_type": "code",
   "execution_count": 6,
   "id": "a28c84e1",
   "metadata": {},
   "outputs": [],
   "source": [
    "import numpy as np\n"
   ]
  },
  {
   "cell_type": "code",
   "execution_count": 7,
   "id": "4f3019b6",
   "metadata": {},
   "outputs": [
    {
     "data": {
      "text/plain": [
       "0.0"
      ]
     },
     "execution_count": 7,
     "metadata": {},
     "output_type": "execute_result"
    }
   ],
   "source": [
    "np.floor(15/20)"
   ]
  },
  {
   "cell_type": "code",
   "execution_count": 8,
   "id": "4b0b0448",
   "metadata": {},
   "outputs": [
    {
     "data": {
      "text/plain": [
       "1.0"
      ]
     },
     "execution_count": 8,
     "metadata": {},
     "output_type": "execute_result"
    }
   ],
   "source": [
    "np.ceil(23/678)"
   ]
  },
  {
   "cell_type": "code",
   "execution_count": 10,
   "id": "7133fc86",
   "metadata": {},
   "outputs": [
    {
     "ename": "AttributeError",
     "evalue": "module 'numpy' has no attribute 'null'",
     "output_type": "error",
     "traceback": [
      "\u001b[1;31m---------------------------------------------------------------------------\u001b[0m",
      "\u001b[1;31mAttributeError\u001b[0m                            Traceback (most recent call last)",
      "Input \u001b[1;32mIn [10]\u001b[0m, in \u001b[0;36m<cell line: 1>\u001b[1;34m()\u001b[0m\n\u001b[1;32m----> 1\u001b[0m \u001b[43mnp\u001b[49m\u001b[38;5;241;43m.\u001b[39;49m\u001b[43mnull\u001b[49m()\n",
      "File \u001b[1;32mD:\\anaconda3\\lib\\site-packages\\numpy\\__init__.py:313\u001b[0m, in \u001b[0;36m__getattr__\u001b[1;34m(attr)\u001b[0m\n\u001b[0;32m    310\u001b[0m     \u001b[38;5;28;01mfrom\u001b[39;00m \u001b[38;5;21;01m.\u001b[39;00m\u001b[38;5;21;01mtesting\u001b[39;00m \u001b[38;5;28;01mimport\u001b[39;00m Tester\n\u001b[0;32m    311\u001b[0m     \u001b[38;5;28;01mreturn\u001b[39;00m Tester\n\u001b[1;32m--> 313\u001b[0m \u001b[38;5;28;01mraise\u001b[39;00m \u001b[38;5;167;01mAttributeError\u001b[39;00m(\u001b[38;5;124m\"\u001b[39m\u001b[38;5;124mmodule \u001b[39m\u001b[38;5;132;01m{!r}\u001b[39;00m\u001b[38;5;124m has no attribute \u001b[39m\u001b[38;5;124m\"\u001b[39m\n\u001b[0;32m    314\u001b[0m                      \u001b[38;5;124m\"\u001b[39m\u001b[38;5;132;01m{!r}\u001b[39;00m\u001b[38;5;124m\"\u001b[39m\u001b[38;5;241m.\u001b[39mformat(\u001b[38;5;18m__name__\u001b[39m, attr))\n",
      "\u001b[1;31mAttributeError\u001b[0m: module 'numpy' has no attribute 'null'"
     ]
    }
   ],
   "source": [
    "np.null()"
   ]
  },
  {
   "cell_type": "code",
   "execution_count": 11,
   "id": "b517912d",
   "metadata": {},
   "outputs": [],
   "source": [
    "np.empty?"
   ]
  },
  {
   "cell_type": "code",
   "execution_count": 17,
   "id": "b707228a",
   "metadata": {},
   "outputs": [
    {
     "name": "stdout",
     "output_type": "stream",
     "text": [
      "[0 1 2 3 4] [5 5 5 5 5]\n"
     ]
    }
   ],
   "source": [
    "a = np.arange(5)\n",
    "a\n",
    "b = np.full(5,5)\n",
    "print(a,b)"
   ]
  },
  {
   "cell_type": "code",
   "execution_count": 18,
   "id": "34eff4c9",
   "metadata": {},
   "outputs": [
    {
     "data": {
      "text/plain": [
       "array([5, 6, 7, 8, 9])"
      ]
     },
     "execution_count": 18,
     "metadata": {},
     "output_type": "execute_result"
    }
   ],
   "source": [
    "a + b"
   ]
  },
  {
   "cell_type": "code",
   "execution_count": 22,
   "id": "9b2ab435",
   "metadata": {},
   "outputs": [
    {
     "data": {
      "text/plain": [
       "array([[3],\n",
       "       [3]])"
      ]
     },
     "execution_count": 22,
     "metadata": {},
     "output_type": "execute_result"
    }
   ],
   "source": [
    "c= np.full(2,3)[:,np.newaxis]\n",
    "c"
   ]
  },
  {
   "cell_type": "code",
   "execution_count": 23,
   "id": "382f68f8",
   "metadata": {},
   "outputs": [
    {
     "data": {
      "text/plain": [
       "array([[8, 8, 8, 8, 8],\n",
       "       [8, 8, 8, 8, 8]])"
      ]
     },
     "execution_count": 23,
     "metadata": {},
     "output_type": "execute_result"
    }
   ],
   "source": [
    "b+c"
   ]
  },
  {
   "cell_type": "code",
   "execution_count": 33,
   "id": "1645f996",
   "metadata": {},
   "outputs": [
    {
     "name": "stdout",
     "output_type": "stream",
     "text": [
      "[[1]\n",
      " [1]]\n"
     ]
    },
    {
     "data": {
      "text/plain": [
       "array([3, 3])"
      ]
     },
     "metadata": {},
     "output_type": "display_data"
    },
    {
     "data": {
      "text/plain": [
       "array([[1],\n",
       "       [1]])"
      ]
     },
     "metadata": {},
     "output_type": "display_data"
    },
    {
     "data": {
      "text/plain": [
       "array([[4, 4],\n",
       "       [4, 4]])"
      ]
     },
     "metadata": {},
     "output_type": "display_data"
    },
    {
     "data": {
      "text/plain": [
       "array([[4, 4],\n",
       "       [4, 4]])"
      ]
     },
     "metadata": {},
     "output_type": "display_data"
    },
    {
     "data": {
      "text/plain": [
       "array([[9, 9],\n",
       "       [9, 9]])"
      ]
     },
     "metadata": {},
     "output_type": "display_data"
    }
   ],
   "source": [
    "m =np.full(2,3)\n",
    "n = np.full(2,1) [:,np.newaxis]\n",
    "s = m + n\n",
    "print(n)\n",
    "display(m,n)\n",
    "display(m + n, s)\n",
    "display (s + 5)"
   ]
  },
  {
   "cell_type": "code",
   "execution_count": 40,
   "id": "f54e4b59",
   "metadata": {},
   "outputs": [
    {
     "data": {
      "text/plain": [
       "array([[1., 1., 1.],\n",
       "       [1., 1., 1.],\n",
       "       [1., 1., 1.]])"
      ]
     },
     "metadata": {},
     "output_type": "display_data"
    },
    {
     "data": {
      "text/plain": [
       "array([[0],\n",
       "       [1],\n",
       "       [2],\n",
       "       [3]])"
      ]
     },
     "metadata": {},
     "output_type": "display_data"
    }
   ],
   "source": [
    "o = np.ones((3,3))\n",
    "a = np.arange(4).reshape(4,1)\n",
    "display(o,a)\n",
    " "
   ]
  },
  {
   "cell_type": "code",
   "execution_count": 41,
   "id": "bbf9818e",
   "metadata": {
    "scrolled": true
   },
   "outputs": [
    {
     "ename": "ValueError",
     "evalue": "operands could not be broadcast together with shapes (3,3) (4,1) ",
     "output_type": "error",
     "traceback": [
      "\u001b[1;31m---------------------------------------------------------------------------\u001b[0m",
      "\u001b[1;31mValueError\u001b[0m                                Traceback (most recent call last)",
      "Input \u001b[1;32mIn [41]\u001b[0m, in \u001b[0;36m<cell line: 1>\u001b[1;34m()\u001b[0m\n\u001b[1;32m----> 1\u001b[0m \u001b[43mo\u001b[49m\u001b[43m \u001b[49m\u001b[38;5;241;43m+\u001b[39;49m\u001b[43m \u001b[49m\u001b[43ma\u001b[49m\n",
      "\u001b[1;31mValueError\u001b[0m: operands could not be broadcast together with shapes (3,3) (4,1) "
     ]
    }
   ],
   "source": [
    " \n",
    "    o + a"
   ]
  },
  {
   "cell_type": "code",
   "execution_count": null,
   "id": "35a39ddf",
   "metadata": {},
   "outputs": [],
   "source": [
    "#broadcasting\n"
   ]
  },
  {
   "cell_type": "markdown",
   "id": "cc83b0f9",
   "metadata": {},
   "source": [
    "NUMPY ASSIGNMENT"
   ]
  },
  {
   "cell_type": "code",
   "execution_count": 1,
   "id": "3a4cd886",
   "metadata": {},
   "outputs": [],
   "source": [
    "import numpy as np"
   ]
  },
  {
   "cell_type": "code",
   "execution_count": 2,
   "id": "2c5c179e",
   "metadata": {},
   "outputs": [
    {
     "data": {
      "text/plain": [
       "array([0., 0., 0., 0., 0., 0., 0., 0., 0., 0.])"
      ]
     },
     "execution_count": 2,
     "metadata": {},
     "output_type": "execute_result"
    }
   ],
   "source": [
    "np.zeros(10)"
   ]
  },
  {
   "cell_type": "code",
   "execution_count": 3,
   "id": "5b0a7464",
   "metadata": {},
   "outputs": [
    {
     "data": {
      "text/plain": [
       "array([1., 1., 1., 1., 1., 1., 1., 1., 1., 1.])"
      ]
     },
     "execution_count": 3,
     "metadata": {},
     "output_type": "execute_result"
    }
   ],
   "source": [
    "np.ones(10)"
   ]
  },
  {
   "cell_type": "code",
   "execution_count": 5,
   "id": "5940f014",
   "metadata": {},
   "outputs": [
    {
     "data": {
      "text/plain": [
       "array([10, 11, 12, 13, 14, 15, 16, 17, 18, 19, 20, 21, 22, 23, 24, 25, 26,\n",
       "       27, 28, 29, 30, 31, 32, 33, 34, 35, 36, 37, 38, 39, 40, 41, 42, 43,\n",
       "       44, 45, 46, 47, 48, 49])"
      ]
     },
     "execution_count": 5,
     "metadata": {},
     "output_type": "execute_result"
    }
   ],
   "source": [
    "a = np.arange(10,50)\n",
    "a"
   ]
  },
  {
   "cell_type": "code",
   "execution_count": 6,
   "id": "f3e022d1",
   "metadata": {},
   "outputs": [
    {
     "data": {
      "text/plain": [
       "array([10, 12, 14, 16, 18, 20, 22, 24, 26, 28, 30, 32, 34, 36, 38, 40, 42,\n",
       "       44, 46, 48])"
      ]
     },
     "execution_count": 6,
     "metadata": {},
     "output_type": "execute_result"
    }
   ],
   "source": [
    "b = np.arange(10,50,2)\n",
    "b"
   ]
  },
  {
   "cell_type": "code",
   "execution_count": 8,
   "id": "a070678f",
   "metadata": {},
   "outputs": [
    {
     "data": {
      "text/plain": [
       "array([[0, 1, 2],\n",
       "       [3, 4, 5],\n",
       "       [6, 7, 8]])"
      ]
     },
     "execution_count": 8,
     "metadata": {},
     "output_type": "execute_result"
    }
   ],
   "source": [
    "np.arange(0,9).reshape(3,3)"
   ]
  },
  {
   "cell_type": "code",
   "execution_count": 10,
   "id": "d15242a2",
   "metadata": {},
   "outputs": [
    {
     "data": {
      "text/plain": [
       "array([[1., 0., 0.],\n",
       "       [0., 1., 0.],\n",
       "       [0., 0., 1.]])"
      ]
     },
     "execution_count": 10,
     "metadata": {},
     "output_type": "execute_result"
    }
   ],
   "source": [
    "np.eye(3)"
   ]
  },
  {
   "cell_type": "code",
   "execution_count": 22,
   "id": "65dfb951",
   "metadata": {},
   "outputs": [
    {
     "data": {
      "text/plain": [
       "0.9671396667058404"
      ]
     },
     "execution_count": 22,
     "metadata": {},
     "output_type": "execute_result"
    }
   ],
   "source": [
    "np.random.rand()"
   ]
  },
  {
   "cell_type": "code",
   "execution_count": 28,
   "id": "9f5a0c36",
   "metadata": {},
   "outputs": [
    {
     "data": {
      "text/plain": [
       "array([0.51286968, 0.58200296, 0.82342743, 0.55841225, 0.18026585,\n",
       "       0.17632791, 0.94221047, 0.8626149 , 0.01658639, 0.08345035,\n",
       "       0.51538317, 0.60273413, 0.28015479, 0.46124653, 0.9258376 ,\n",
       "       0.33171396, 0.6332984 , 0.11506083, 0.14590693, 0.55795931,\n",
       "       0.94202792, 0.75110765, 0.6056603 , 0.89645756, 0.36750712])"
      ]
     },
     "execution_count": 28,
     "metadata": {},
     "output_type": "execute_result"
    }
   ],
   "source": [
    "np.random.rand(25)"
   ]
  },
  {
   "cell_type": "code",
   "execution_count": 36,
   "id": "becca3ff",
   "metadata": {},
   "outputs": [
    {
     "data": {
      "text/plain": [
       "array([[0.01, 0.02, 0.03, 0.04, 0.05, 0.06, 0.07, 0.08, 0.09, 0.1 ],\n",
       "       [0.11, 0.12, 0.13, 0.14, 0.15, 0.16, 0.17, 0.18, 0.19, 0.2 ],\n",
       "       [0.21, 0.22, 0.23, 0.24, 0.25, 0.26, 0.27, 0.28, 0.29, 0.3 ],\n",
       "       [0.31, 0.32, 0.33, 0.34, 0.35, 0.36, 0.37, 0.38, 0.39, 0.4 ],\n",
       "       [0.41, 0.42, 0.43, 0.44, 0.45, 0.46, 0.47, 0.48, 0.49, 0.5 ],\n",
       "       [0.51, 0.52, 0.53, 0.54, 0.55, 0.56, 0.57, 0.58, 0.59, 0.6 ],\n",
       "       [0.61, 0.62, 0.63, 0.64, 0.65, 0.66, 0.67, 0.68, 0.69, 0.7 ],\n",
       "       [0.71, 0.72, 0.73, 0.74, 0.75, 0.76, 0.77, 0.78, 0.79, 0.8 ],\n",
       "       [0.81, 0.82, 0.83, 0.84, 0.85, 0.86, 0.87, 0.88, 0.89, 0.9 ],\n",
       "       [0.91, 0.92, 0.93, 0.94, 0.95, 0.96, 0.97, 0.98, 0.99, 1.  ]])"
      ]
     },
     "execution_count": 36,
     "metadata": {},
     "output_type": "execute_result"
    }
   ],
   "source": [
    "np.linspace(0.01,1,100).reshape(10,10)"
   ]
  },
  {
   "cell_type": "code",
   "execution_count": 39,
   "id": "17f92c31",
   "metadata": {},
   "outputs": [
    {
     "data": {
      "text/plain": [
       "array([0.        , 0.05263158, 0.10526316, 0.15789474, 0.21052632,\n",
       "       0.26315789, 0.31578947, 0.36842105, 0.42105263, 0.47368421,\n",
       "       0.52631579, 0.57894737, 0.63157895, 0.68421053, 0.73684211,\n",
       "       0.78947368, 0.84210526, 0.89473684, 0.94736842, 1.        ])"
      ]
     },
     "execution_count": 39,
     "metadata": {},
     "output_type": "execute_result"
    }
   ],
   "source": [
    "np.linspace(0,1,20)"
   ]
  },
  {
   "cell_type": "code",
   "execution_count": 5,
   "id": "33747ebe",
   "metadata": {},
   "outputs": [
    {
     "data": {
      "text/plain": [
       "array([[ 1,  2,  3,  4,  5],\n",
       "       [ 6,  7,  8,  9, 10],\n",
       "       [11, 12, 13, 14, 15],\n",
       "       [16, 17, 18, 19, 20],\n",
       "       [21, 22, 23, 24, 25]])"
      ]
     },
     "execution_count": 5,
     "metadata": {},
     "output_type": "execute_result"
    }
   ],
   "source": [
    "a = np.arange(1,26).reshape(5,5)\n",
    "a"
   ]
  },
  {
   "cell_type": "code",
   "execution_count": 4,
   "id": "b8575bf5",
   "metadata": {},
   "outputs": [
    {
     "data": {
      "text/plain": [
       "array([[12, 13, 14, 15],\n",
       "       [17, 18, 19, 20],\n",
       "       [22, 23, 24, 25]])"
      ]
     },
     "execution_count": 4,
     "metadata": {},
     "output_type": "execute_result"
    }
   ],
   "source": [
    "a[2:,1:]"
   ]
  },
  {
   "cell_type": "code",
   "execution_count": 49,
   "id": "0c9ed059",
   "metadata": {},
   "outputs": [
    {
     "data": {
      "text/plain": [
       "20"
      ]
     },
     "execution_count": 49,
     "metadata": {},
     "output_type": "execute_result"
    }
   ],
   "source": [
    "a[3,4]"
   ]
  },
  {
   "cell_type": "code",
   "execution_count": 9,
   "id": "370dc097",
   "metadata": {},
   "outputs": [
    {
     "data": {
      "text/plain": [
       "array([[ 2],\n",
       "       [ 7],\n",
       "       [12]])"
      ]
     },
     "execution_count": 9,
     "metadata": {},
     "output_type": "execute_result"
    }
   ],
   "source": [
    "a[0:3,1:2] "
   ]
  },
  {
   "cell_type": "code",
   "execution_count": 10,
   "id": "b94c9f37",
   "metadata": {},
   "outputs": [
    {
     "data": {
      "text/plain": [
       "array([[21, 22, 23, 24, 25]])"
      ]
     },
     "execution_count": 10,
     "metadata": {},
     "output_type": "execute_result"
    }
   ],
   "source": [
    "a[4:]"
   ]
  },
  {
   "cell_type": "code",
   "execution_count": 25,
   "id": "f2df8482",
   "metadata": {},
   "outputs": [
    {
     "data": {
      "text/plain": [
       "array([[16, 17, 18, 19, 20],\n",
       "       [21, 22, 23, 24, 25]])"
      ]
     },
     "execution_count": 25,
     "metadata": {},
     "output_type": "execute_result"
    }
   ],
   "source": [
    "a[3:]"
   ]
  },
  {
   "cell_type": "code",
   "execution_count": 51,
   "id": "5252562b",
   "metadata": {},
   "outputs": [
    {
     "data": {
      "text/plain": [
       "325"
      ]
     },
     "execution_count": 51,
     "metadata": {},
     "output_type": "execute_result"
    }
   ],
   "source": [
    "np.sum(a)"
   ]
  },
  {
   "cell_type": "code",
   "execution_count": 52,
   "id": "ef2ca450",
   "metadata": {},
   "outputs": [
    {
     "data": {
      "text/plain": [
       "array([ 15,  40,  65,  90, 115])"
      ]
     },
     "execution_count": 52,
     "metadata": {},
     "output_type": "execute_result"
    }
   ],
   "source": [
    "np.sum(a,axis=1)"
   ]
  },
  {
   "cell_type": "code",
   "execution_count": 56,
   "id": "a296f1a6",
   "metadata": {},
   "outputs": [
    {
     "data": {
      "text/plain": [
       "array([7.07106781, 7.07106781, 7.07106781, 7.07106781, 7.07106781])"
      ]
     },
     "execution_count": 56,
     "metadata": {},
     "output_type": "execute_result"
    }
   ],
   "source": [
    "np.std(a,axis=0)"
   ]
  },
  {
   "cell_type": "code",
   "execution_count": 60,
   "id": "67e5ca0e",
   "metadata": {},
   "outputs": [
    {
     "data": {
      "text/plain": [
       "array([50., 50., 50., 50., 50.])"
      ]
     },
     "execution_count": 60,
     "metadata": {},
     "output_type": "execute_result"
    }
   ],
   "source": [
    "np.var(a,axis=0)"
   ]
  },
  {
   "cell_type": "code",
   "execution_count": 57,
   "id": "c1ddc477",
   "metadata": {},
   "outputs": [
    {
     "data": {
      "text/plain": [
       "array([1, 2, 3, 4, 5])"
      ]
     },
     "execution_count": 57,
     "metadata": {},
     "output_type": "execute_result"
    }
   ],
   "source": [
    "np.min(a,axis=0)"
   ]
  },
  {
   "cell_type": "code",
   "execution_count": 58,
   "id": "b646c38f",
   "metadata": {},
   "outputs": [
    {
     "data": {
      "text/plain": [
       "array([21, 22, 23, 24, 25])"
      ]
     },
     "execution_count": 58,
     "metadata": {},
     "output_type": "execute_result"
    }
   ],
   "source": [
    "np.max(a,axis=0)"
   ]
  },
  {
   "cell_type": "code",
   "execution_count": 61,
   "id": "d7583eee",
   "metadata": {},
   "outputs": [
    {
     "data": {
      "text/plain": [
       "array([10, 20, 30, 40, 50, 60, 70])"
      ]
     },
     "execution_count": 61,
     "metadata": {},
     "output_type": "execute_result"
    }
   ],
   "source": [
    "b2 = np.array([10,20,30,40,50,60,70])\n",
    "b2"
   ]
  },
  {
   "cell_type": "code",
   "execution_count": 62,
   "id": "60617f51",
   "metadata": {},
   "outputs": [
    {
     "data": {
      "text/plain": [
       "array([20, 30])"
      ]
     },
     "execution_count": 62,
     "metadata": {},
     "output_type": "execute_result"
    }
   ],
   "source": [
    "b2[1:3]"
   ]
  },
  {
   "cell_type": "code",
   "execution_count": 63,
   "id": "30754b38",
   "metadata": {},
   "outputs": [
    {
     "data": {
      "text/plain": [
       "array([20, 40, 60])"
      ]
     },
     "execution_count": 63,
     "metadata": {},
     "output_type": "execute_result"
    }
   ],
   "source": [
    "b2[1:6:2]"
   ]
  },
  {
   "cell_type": "code",
   "execution_count": 70,
   "id": "28027f46",
   "metadata": {},
   "outputs": [
    {
     "data": {
      "text/plain": [
       "array([70, 60])"
      ]
     },
     "execution_count": 70,
     "metadata": {},
     "output_type": "execute_result"
    }
   ],
   "source": [
    "b2[-1:-3:-1]"
   ]
  },
  {
   "cell_type": "code",
   "execution_count": 22,
   "id": "8ee43f5d",
   "metadata": {},
   "outputs": [
    {
     "name": "stdout",
     "output_type": "stream",
     "text": [
      "[[nan nan nan nan nan]\n",
      " [nan  0.  0.  0. nan]\n",
      " [nan  0.  0.  0. nan]\n",
      " [nan nan nan nan nan]]\n"
     ]
    }
   ],
   "source": [
    "import numpy as np\n",
    "\n",
    "a = np.zeros(20).reshape(4, 5)\n",
    "a[0, :] = \"nan\"\n",
    "a[1:4,0:1] = \"nan\"\n",
    "a[3:] = nan\n",
    "a[1:3,-1:] = np.nan\n",
    "\n",
    "print(a)\n"
   ]
  },
  {
   "cell_type": "markdown",
   "id": "7fa01d55",
   "metadata": {},
   "source": [
    "#NUMPY EXERCISE 2"
   ]
  },
  {
   "cell_type": "code",
   "execution_count": 5,
   "id": "bebf95fd",
   "metadata": {},
   "outputs": [
    {
     "name": "stdout",
     "output_type": "stream",
     "text": [
      "[1 2 3 4 5]\n",
      "[[1 2 3]\n",
      " [4 5 6]]\n",
      "[[[ 1  2  3  4]\n",
      "  [ 5  6  7  8]\n",
      "  [ 9 10 11 12]]]\n"
     ]
    }
   ],
   "source": [
    "a = np.array([1,2,3,4,5])\n",
    "b = np.array([[1,2,3],[4,5,6]])\n",
    "c = np.array([[[1,2,3,4],[5,6,7,8],[9,10,11,12]]])\n",
    "print(a)\n",
    "print(b)\n",
    "print(c)"
   ]
  },
  {
   "cell_type": "code",
   "execution_count": 11,
   "id": "0dbc62dc",
   "metadata": {},
   "outputs": [
    {
     "name": "stdout",
     "output_type": "stream",
     "text": [
      "int32\n",
      "int32\n",
      "int32\n"
     ]
    }
   ],
   "source": [
    "print(a.dtype)\n",
    "print(b.dtype)\n",
    "print(c.dtype)"
   ]
  },
  {
   "cell_type": "code",
   "execution_count": 14,
   "id": "149f7462",
   "metadata": {},
   "outputs": [
    {
     "name": "stdout",
     "output_type": "stream",
     "text": [
      "(5,)\n",
      "(2, 3)\n",
      "(1, 3, 4)\n"
     ]
    }
   ],
   "source": [
    "print(a.shape)\n",
    "print(b.shape)\n",
    "print(c.shape)"
   ]
  },
  {
   "cell_type": "code",
   "execution_count": 26,
   "id": "517bb3cb",
   "metadata": {},
   "outputs": [
    {
     "name": "stdout",
     "output_type": "stream",
     "text": [
      "1\n",
      "2\n",
      "3\n"
     ]
    }
   ],
   "source": [
    "print(a.ndim)\n",
    "print(b.ndim)\n",
    "print(c.ndim)"
   ]
  },
  {
   "cell_type": "code",
   "execution_count": 27,
   "id": "59051ba0",
   "metadata": {},
   "outputs": [
    {
     "data": {
      "text/plain": [
       "array([0., 0., 0., 0., 0., 0., 0., 0., 0., 0., 0., 0.])"
      ]
     },
     "execution_count": 27,
     "metadata": {},
     "output_type": "execute_result"
    }
   ],
   "source": [
    "np.zeros(12)"
   ]
  },
  {
   "cell_type": "code",
   "execution_count": 29,
   "id": "36b3b015",
   "metadata": {},
   "outputs": [
    {
     "data": {
      "text/plain": [
       "array([[1., 1., 1., 1., 1.],\n",
       "       [1., 1., 1., 1., 1.],\n",
       "       [1., 1., 1., 1., 1.],\n",
       "       [1., 1., 1., 1., 1.],\n",
       "       [1., 1., 1., 1., 1.]])"
      ]
     },
     "execution_count": 29,
     "metadata": {},
     "output_type": "execute_result"
    }
   ],
   "source": [
    "np.ones((5,5))"
   ]
  },
  {
   "cell_type": "code",
   "execution_count": 36,
   "id": "466add0b",
   "metadata": {},
   "outputs": [
    {
     "data": {
      "text/plain": [
       "array([81, 41, 51, 93, 13, 72, 24, 25, 99, 93, 39, 94, 66, 49, 25, 19, 67,\n",
       "       62, 15, 59])"
      ]
     },
     "execution_count": 36,
     "metadata": {},
     "output_type": "execute_result"
    }
   ],
   "source": [
    "Maths_marks = np.random.randint(1,100,20)\n",
    "Maths_marks"
   ]
  },
  {
   "cell_type": "code",
   "execution_count": 37,
   "id": "2f1ab299",
   "metadata": {},
   "outputs": [
    {
     "data": {
      "text/plain": [
       "array([13, 15, 19, 24, 25, 25, 39, 41, 49, 51, 59, 62, 66, 67, 72, 81, 93,\n",
       "       93, 94, 99])"
      ]
     },
     "execution_count": 37,
     "metadata": {},
     "output_type": "execute_result"
    }
   ],
   "source": [
    "sort_array = np.sort(Maths_marks)\n",
    "sort_array"
   ]
  },
  {
   "cell_type": "code",
   "execution_count": 49,
   "id": "b5636d0c",
   "metadata": {},
   "outputs": [
    {
     "data": {
      "text/plain": [
       "array([90, 87, 84, 84, 83, 81, 76, 58, 58, 42, 37, 33, 29, 27, 27, 23, 20,\n",
       "       12,  6,  1])"
      ]
     },
     "execution_count": 49,
     "metadata": {},
     "output_type": "execute_result"
    }
   ],
   "source": [
    "sort_array = np.sort(Maths_marks) [::-1]\n",
    "sort_array"
   ]
  },
  {
   "cell_type": "code",
   "execution_count": null,
   "id": "03fa22b5",
   "metadata": {},
   "outputs": [],
   "source": []
  },
  {
   "cell_type": "code",
   "execution_count": 51,
   "id": "47ac8684",
   "metadata": {},
   "outputs": [
    {
     "data": {
      "text/plain": [
       "array([[1., 0., 0., 0., 0.],\n",
       "       [0., 1., 0., 0., 0.],\n",
       "       [0., 0., 1., 0., 0.],\n",
       "       [0., 0., 0., 1., 0.],\n",
       "       [0., 0., 0., 0., 1.]])"
      ]
     },
     "execution_count": 51,
     "metadata": {},
     "output_type": "execute_result"
    }
   ],
   "source": [
    "a = np.eye(5)\n",
    "a"
   ]
  },
  {
   "cell_type": "code",
   "execution_count": 53,
   "id": "a2aff737",
   "metadata": {},
   "outputs": [
    {
     "data": {
      "text/plain": [
       "array([1., 0., 0., 0., 0., 0., 1., 0., 0., 0., 0., 0., 1., 0., 0., 0., 0.,\n",
       "       0., 1., 0., 0., 0., 0., 0., 1.])"
      ]
     },
     "execution_count": 53,
     "metadata": {},
     "output_type": "execute_result"
    }
   ],
   "source": [
    "a.reshape(25)"
   ]
  },
  {
   "cell_type": "code",
   "execution_count": 55,
   "id": "792b7137",
   "metadata": {},
   "outputs": [
    {
     "name": "stdout",
     "output_type": "stream",
     "text": [
      "[[1 2 3]\n",
      " [4 5 6]\n",
      " [7 8 9]]\n"
     ]
    }
   ],
   "source": [
    "b = np.array([[1,2,3],[4,5,6],[7,8,9]])\n",
    "print(b)           "
   ]
  },
  {
   "cell_type": "code",
   "execution_count": 56,
   "id": "e69d0f2d",
   "metadata": {},
   "outputs": [],
   "source": [
    "new_row = np.array([[10,11,12]])"
   ]
  },
  {
   "cell_type": "code",
   "execution_count": 60,
   "id": "c2b9d07a",
   "metadata": {},
   "outputs": [
    {
     "name": "stdout",
     "output_type": "stream",
     "text": [
      "[[ 1  2  3]\n",
      " [ 4  5  6]\n",
      " [ 7  8  9]\n",
      " [10 11 12]]\n"
     ]
    }
   ],
   "source": [
    "b2 = np.vstack([b,new_row])\n",
    "print(b2)"
   ]
  },
  {
   "cell_type": "code",
   "execution_count": null,
   "id": "07c435b6",
   "metadata": {},
   "outputs": [],
   "source": []
  },
  {
   "cell_type": "code",
   "execution_count": 73,
   "id": "715cdcce",
   "metadata": {},
   "outputs": [
    {
     "data": {
      "text/plain": [
       "array([[1., 0., 0., 0.],\n",
       "       [0., 1., 0., 0.],\n",
       "       [0., 0., 1., 0.],\n",
       "       [0., 0., 0., 1.]])"
      ]
     },
     "execution_count": 73,
     "metadata": {},
     "output_type": "execute_result"
    }
   ],
   "source": [
    "d = np.eye(4)\n",
    "d"
   ]
  },
  {
   "cell_type": "code",
   "execution_count": 74,
   "id": "f19f875e",
   "metadata": {},
   "outputs": [
    {
     "data": {
      "text/plain": [
       "array([[5., 4., 4., 4.],\n",
       "       [4., 5., 4., 4.],\n",
       "       [4., 4., 5., 4.],\n",
       "       [4., 4., 4., 5.]])"
      ]
     },
     "execution_count": 74,
     "metadata": {},
     "output_type": "execute_result"
    }
   ],
   "source": [
    "e = d+4\n",
    "e"
   ]
  },
  {
   "cell_type": "code",
   "execution_count": 87,
   "id": "cf7d82c8",
   "metadata": {},
   "outputs": [
    {
     "data": {
      "text/plain": [
       "array([0.88260029, 0.57472813, 0.69905583, 0.0619014 , 0.28883638,\n",
       "       0.12236267, 0.80766184, 0.90821351, 0.04528249, 0.70954592])"
      ]
     },
     "execution_count": 87,
     "metadata": {},
     "output_type": "execute_result"
    }
   ],
   "source": [
    "g = np.random.rand(10)\n",
    "g"
   ]
  },
  {
   "cell_type": "code",
   "execution_count": 90,
   "id": "1121205f",
   "metadata": {},
   "outputs": [
    {
     "data": {
      "text/plain": [
       "array([1., 1., 1., 1., 1., 1., 1., 1., 1., 1.])"
      ]
     },
     "execution_count": 90,
     "metadata": {},
     "output_type": "execute_result"
    }
   ],
   "source": [
    "np.ceil(g)"
   ]
  },
  {
   "cell_type": "code",
   "execution_count": 91,
   "id": "ccfa7ab4",
   "metadata": {},
   "outputs": [
    {
     "data": {
      "text/plain": [
       "array([0., 0., 0., 0., 0., 0., 0., 0., 0., 0.])"
      ]
     },
     "execution_count": 91,
     "metadata": {},
     "output_type": "execute_result"
    }
   ],
   "source": [
    "np.floor(g)"
   ]
  },
  {
   "cell_type": "code",
   "execution_count": 93,
   "id": "05906da1",
   "metadata": {},
   "outputs": [
    {
     "data": {
      "text/plain": [
       "array([0.88, 0.57, 0.7 , 0.06, 0.29, 0.12, 0.81, 0.91, 0.05, 0.71])"
      ]
     },
     "execution_count": 93,
     "metadata": {},
     "output_type": "execute_result"
    }
   ],
   "source": [
    "np.round(g,decimals=2)"
   ]
  },
  {
   "cell_type": "code",
   "execution_count": 94,
   "id": "55bbec53",
   "metadata": {},
   "outputs": [
    {
     "data": {
      "text/plain": [
       "array([[ 0,  1,  2,  3,  4],\n",
       "       [ 5,  6,  7,  8,  9],\n",
       "       [10, 11, 12, 13, 14],\n",
       "       [15, 16, 17, 18, 19],\n",
       "       [20, 21, 22, 23, 24]])"
      ]
     },
     "execution_count": 94,
     "metadata": {},
     "output_type": "execute_result"
    }
   ],
   "source": [
    "h = np.arange(25).reshape(5,5)\n",
    "h"
   ]
  },
  {
   "cell_type": "code",
   "execution_count": 95,
   "id": "d1fbdb9c",
   "metadata": {},
   "outputs": [
    {
     "data": {
      "text/plain": [
       "array([ 0,  5, 10, 15, 20])"
      ]
     },
     "execution_count": 95,
     "metadata": {},
     "output_type": "execute_result"
    }
   ],
   "source": [
    "np.min(h,axis = 1)"
   ]
  },
  {
   "cell_type": "code",
   "execution_count": 96,
   "id": "dd9883c1",
   "metadata": {},
   "outputs": [
    {
     "data": {
      "text/plain": [
       "array([ 4,  9, 14, 19, 24])"
      ]
     },
     "execution_count": 96,
     "metadata": {},
     "output_type": "execute_result"
    }
   ],
   "source": [
    "np.max(h,axis = 1)"
   ]
  },
  {
   "cell_type": "code",
   "execution_count": 97,
   "id": "54b3e7a3",
   "metadata": {},
   "outputs": [
    {
     "data": {
      "text/plain": [
       "array([2., 2., 2., 2., 2.])"
      ]
     },
     "execution_count": 97,
     "metadata": {},
     "output_type": "execute_result"
    }
   ],
   "source": [
    "np.var(h,axis = 1)"
   ]
  },
  {
   "cell_type": "code",
   "execution_count": 98,
   "id": "386f922e",
   "metadata": {},
   "outputs": [
    {
     "data": {
      "text/plain": [
       "array([1.41421356, 1.41421356, 1.41421356, 1.41421356, 1.41421356])"
      ]
     },
     "execution_count": 98,
     "metadata": {},
     "output_type": "execute_result"
    }
   ],
   "source": [
    "np.std(h,axis = 1)"
   ]
  },
  {
   "cell_type": "code",
   "execution_count": 101,
   "id": "f93c844e",
   "metadata": {},
   "outputs": [
    {
     "data": {
      "text/plain": [
       "array([0., 0., 0., 0., 0., 0., 0., 0., 0., 0.])"
      ]
     },
     "execution_count": 101,
     "metadata": {},
     "output_type": "execute_result"
    }
   ],
   "source": [
    "vect = np.zeros(10)\n",
    "vect"
   ]
  },
  {
   "cell_type": "code",
   "execution_count": 102,
   "id": "0e2d2e78",
   "metadata": {},
   "outputs": [
    {
     "data": {
      "text/plain": [
       "array([  0.,   0.,   0.,   0.,   0.,   0., 200.,   0.,   0.,   0.])"
      ]
     },
     "execution_count": 102,
     "metadata": {},
     "output_type": "execute_result"
    }
   ],
   "source": [
    "vect[6] = 200\n",
    "vect"
   ]
  },
  {
   "cell_type": "code",
   "execution_count": 103,
   "id": "0b006763",
   "metadata": {},
   "outputs": [
    {
     "data": {
      "text/plain": [
       "array([100, 101, 102, 103, 104, 105, 106, 107, 108, 109, 110, 111, 112,\n",
       "       113, 114, 115, 116, 117, 118, 119, 120, 121, 122, 123, 124, 125,\n",
       "       126, 127, 128, 129, 130, 131, 132, 133, 134, 135, 136, 137, 138,\n",
       "       139, 140, 141, 142, 143, 144, 145, 146, 147, 148, 149])"
      ]
     },
     "execution_count": 103,
     "metadata": {},
     "output_type": "execute_result"
    }
   ],
   "source": [
    "ar1 = np.arange(100,150)\n",
    "ar1"
   ]
  },
  {
   "cell_type": "code",
   "execution_count": 108,
   "id": "4ba0ec92",
   "metadata": {},
   "outputs": [
    {
     "data": {
      "text/plain": [
       "array([149, 148, 147, 146, 145, 144, 143, 142, 141, 140, 139, 138, 137,\n",
       "       136, 135, 134, 133, 132, 131, 130, 129, 128, 127, 126, 125, 124,\n",
       "       123, 122, 121, 120, 119, 118, 117, 116, 115, 114, 113, 112, 111,\n",
       "       110, 109, 108, 107, 106, 105, 104, 103, 102, 101, 100])"
      ]
     },
     "execution_count": 108,
     "metadata": {},
     "output_type": "execute_result"
    }
   ],
   "source": [
    "ar2 = ar1[::-1]\n",
    "ar2"
   ]
  },
  {
   "cell_type": "code",
   "execution_count": 110,
   "id": "5e8edc01",
   "metadata": {},
   "outputs": [
    {
     "data": {
      "text/plain": [
       "array([[ 0,  1,  2,  3,  4],\n",
       "       [ 5,  6,  7,  8,  9],\n",
       "       [10, 11, 12, 13, 14],\n",
       "       [15, 16, 17, 18, 19],\n",
       "       [20, 21, 22, 23, 24]])"
      ]
     },
     "execution_count": 110,
     "metadata": {},
     "output_type": "execute_result"
    }
   ],
   "source": [
    "ar3 = np.arange(0,25).reshape(5,5)\n",
    "ar3"
   ]
  },
  {
   "cell_type": "code",
   "execution_count": 111,
   "id": "a4bca60b",
   "metadata": {},
   "outputs": [
    {
     "data": {
      "text/plain": [
       "array([1, 0, 2, 0, 0, 4, 0, 8])"
      ]
     },
     "execution_count": 111,
     "metadata": {},
     "output_type": "execute_result"
    }
   ],
   "source": [
    "b3 = np.array([1,0,2,0,0,4,0,8])\n",
    "b3"
   ]
  },
  {
   "cell_type": "code",
   "execution_count": 112,
   "id": "96e85dc4",
   "metadata": {},
   "outputs": [
    {
     "data": {
      "text/plain": [
       "(array([0, 2, 5, 7], dtype=int64),)"
      ]
     },
     "execution_count": 112,
     "metadata": {},
     "output_type": "execute_result"
    }
   ],
   "source": [
    "np.nonzero(b3)"
   ]
  },
  {
   "cell_type": "code",
   "execution_count": 10,
   "id": "f1da53d9",
   "metadata": {},
   "outputs": [
    {
     "data": {
      "text/plain": [
       "array([[0., 0., 0., 0., 0., 0., 0., 0., 0., 0.],\n",
       "       [0., 0., 0., 0., 0., 0., 0., 0., 0., 0.],\n",
       "       [0., 0., 0., 0., 0., 0., 0., 0., 0., 0.],\n",
       "       [0., 0., 0., 0., 0., 0., 0., 0., 0., 0.],\n",
       "       [0., 0., 0., 0., 0., 0., 0., 0., 0., 0.],\n",
       "       [0., 0., 0., 0., 0., 0., 0., 0., 0., 0.],\n",
       "       [0., 0., 0., 0., 0., 0., 0., 0., 0., 0.],\n",
       "       [0., 0., 0., 0., 0., 0., 0., 0., 0., 0.],\n",
       "       [0., 0., 0., 0., 0., 0., 0., 0., 0., 0.],\n",
       "       [0., 0., 0., 0., 0., 0., 0., 0., 0., 0.]])"
      ]
     },
     "execution_count": 10,
     "metadata": {},
     "output_type": "execute_result"
    }
   ],
   "source": [
    "mtr1 = np.zeros((100)).reshape(10,10)\n",
    "mtr1"
   ]
  },
  {
   "cell_type": "code",
   "execution_count": 15,
   "id": "dd64c434",
   "metadata": {},
   "outputs": [
    {
     "data": {
      "text/plain": [
       "array([[1., 1., 1., 1., 1., 1., 1., 1., 1., 1.],\n",
       "       [1., 0., 0., 0., 0., 0., 0., 0., 0., 1.],\n",
       "       [1., 0., 0., 0., 0., 0., 0., 0., 0., 1.],\n",
       "       [1., 0., 0., 0., 0., 0., 0., 0., 0., 1.],\n",
       "       [1., 0., 0., 0., 0., 0., 0., 0., 0., 1.],\n",
       "       [1., 0., 0., 0., 0., 0., 0., 0., 0., 1.],\n",
       "       [1., 0., 0., 0., 0., 0., 0., 0., 0., 1.],\n",
       "       [1., 0., 0., 0., 0., 0., 0., 0., 0., 1.],\n",
       "       [1., 0., 0., 0., 0., 0., 0., 0., 0., 1.],\n",
       "       [1., 1., 1., 1., 1., 1., 1., 1., 1., 1.]])"
      ]
     },
     "execution_count": 15,
     "metadata": {},
     "output_type": "execute_result"
    }
   ],
   "source": [
    "mtr1[0:1,0:] = 1\n",
    "mtr1\n",
    "mtr1[1:,0:1] = 1\n",
    "mtr1\n",
    "mtr1[9:,1:] = 1\n",
    "mtr1\n",
    "mtr1[1:9,9:] = 1\n",
    "mtr1"
   ]
  },
  {
   "cell_type": "code",
   "execution_count": 19,
   "id": "85db3912",
   "metadata": {},
   "outputs": [
    {
     "data": {
      "text/plain": [
       "array([[0, 0, 0, 0, 0, 0, 0, 0],\n",
       "       [0, 0, 0, 0, 0, 0, 0, 0],\n",
       "       [0, 0, 0, 0, 0, 0, 0, 0],\n",
       "       [0, 0, 0, 0, 0, 0, 0, 0],\n",
       "       [0, 0, 0, 0, 0, 0, 0, 0],\n",
       "       [0, 0, 0, 0, 0, 0, 0, 0],\n",
       "       [0, 0, 0, 0, 0, 0, 0, 0],\n",
       "       [0, 0, 0, 0, 0, 0, 0, 0]])"
      ]
     },
     "execution_count": 19,
     "metadata": {},
     "output_type": "execute_result"
    }
   ],
   "source": [
    "mtr2 = np.full([8,8],0)\n",
    "mtr2"
   ]
  },
  {
   "cell_type": "code",
   "execution_count": 21,
   "id": "d042a178",
   "metadata": {},
   "outputs": [
    {
     "data": {
      "text/plain": [
       "array([[0, 1, 0, 1, 0, 1, 0, 1],\n",
       "       [1, 0, 1, 0, 1, 0, 1, 0],\n",
       "       [0, 1, 0, 1, 0, 1, 0, 1],\n",
       "       [1, 0, 1, 0, 1, 0, 1, 0],\n",
       "       [0, 1, 0, 1, 0, 1, 0, 1],\n",
       "       [1, 0, 1, 0, 1, 0, 1, 0],\n",
       "       [0, 1, 0, 1, 0, 1, 0, 1],\n",
       "       [1, 0, 1, 0, 1, 0, 1, 0]])"
      ]
     },
     "execution_count": 21,
     "metadata": {},
     "output_type": "execute_result"
    }
   ],
   "source": [
    "mtr2[1::2,::2] = 1\n",
    "mtr2\n",
    "mtr2[::2,1::2] = 1\n",
    "mtr2"
   ]
  },
  {
   "cell_type": "code",
   "execution_count": 25,
   "id": "9b4df9ed",
   "metadata": {},
   "outputs": [
    {
     "name": "stdout",
     "output_type": "stream",
     "text": [
      "[[0 1 2]\n",
      " [3 4 5]\n",
      " [6 7 8]]\n"
     ]
    }
   ],
   "source": [
    "matr1 = np.arange(0,9).reshape(3,3)\n",
    "print(matr1)"
   ]
  },
  {
   "cell_type": "code",
   "execution_count": 26,
   "id": "f6d30fcb",
   "metadata": {},
   "outputs": [
    {
     "name": "stdout",
     "output_type": "stream",
     "text": [
      "[[10 11 12]\n",
      " [13 14 15]\n",
      " [16 17 18]]\n"
     ]
    }
   ],
   "source": [
    "matr2 = np.arange(10,19).reshape(3,3)\n",
    "print(matr2)"
   ]
  },
  {
   "cell_type": "code",
   "execution_count": 30,
   "id": "460817e3",
   "metadata": {},
   "outputs": [
    {
     "data": {
      "text/plain": [
       "array([[10, 12, 14],\n",
       "       [16, 18, 20],\n",
       "       [22, 24, 26]])"
      ]
     },
     "execution_count": 30,
     "metadata": {},
     "output_type": "execute_result"
    }
   ],
   "source": [
    "addition = matr1 + matr2\n",
    "addition"
   ]
  },
  {
   "cell_type": "code",
   "execution_count": 32,
   "id": "d8094d4f",
   "metadata": {},
   "outputs": [
    {
     "data": {
      "text/plain": [
       "array([[-10, -10, -10],\n",
       "       [-10, -10, -10],\n",
       "       [-10, -10, -10]])"
      ]
     },
     "execution_count": 32,
     "metadata": {},
     "output_type": "execute_result"
    }
   ],
   "source": [
    "subtraction = matr1 - matr2\n",
    "subtraction"
   ]
  },
  {
   "cell_type": "code",
   "execution_count": 33,
   "id": "5db98e70",
   "metadata": {},
   "outputs": [
    {
     "data": {
      "text/plain": [
       "array([[  0,  11,  24],\n",
       "       [ 39,  56,  75],\n",
       "       [ 96, 119, 144]])"
      ]
     },
     "execution_count": 33,
     "metadata": {},
     "output_type": "execute_result"
    }
   ],
   "source": [
    "multiplication = matr1 * matr2\n",
    "multiplication"
   ]
  },
  {
   "cell_type": "code",
   "execution_count": 34,
   "id": "b68ab498",
   "metadata": {},
   "outputs": [
    {
     "data": {
      "text/plain": [
       "array([[0.        , 0.09090909, 0.16666667],\n",
       "       [0.23076923, 0.28571429, 0.33333333],\n",
       "       [0.375     , 0.41176471, 0.44444444]])"
      ]
     },
     "execution_count": 34,
     "metadata": {},
     "output_type": "execute_result"
    }
   ],
   "source": [
    "division = matr1 / matr2\n",
    "division"
   ]
  },
  {
   "cell_type": "code",
   "execution_count": null,
   "id": "64b18429",
   "metadata": {},
   "outputs": [],
   "source": []
  },
  {
   "cell_type": "code",
   "execution_count": null,
   "id": "3530cb5e",
   "metadata": {},
   "outputs": [],
   "source": []
  }
 ],
 "metadata": {
  "kernelspec": {
   "display_name": "Python 3 (ipykernel)",
   "language": "python",
   "name": "python3"
  },
  "language_info": {
   "codemirror_mode": {
    "name": "ipython",
    "version": 3
   },
   "file_extension": ".py",
   "mimetype": "text/x-python",
   "name": "python",
   "nbconvert_exporter": "python",
   "pygments_lexer": "ipython3",
   "version": "3.9.12"
  }
 },
 "nbformat": 4,
 "nbformat_minor": 5
}
